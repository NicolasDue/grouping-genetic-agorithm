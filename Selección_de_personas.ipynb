{
  "nbformat": 4,
  "nbformat_minor": 0,
  "metadata": {
    "colab": {
      "name": "Selección de personas.ipynb",
      "provenance": [],
      "collapsed_sections": [
        "7qYpOviSHn8S",
        "j7BUvb9XJKPi",
        "tEvcxAt9vLxZ",
        "Cmiv21vlvusp",
        "XXakDo-UK42N",
        "vMxEily1wAvS",
        "G5VSZFIG1lhS",
        "GZEy1BUJQDC9",
        "mP_oclv7amPk"
      ]
    },
    "kernelspec": {
      "name": "python3",
      "display_name": "Python 3"
    }
  },
  "cells": [
    {
      "cell_type": "code",
      "metadata": {
        "id": "xCWo8bST1S_l"
      },
      "source": [
        "#PARÁMETROS\n",
        "N_GRUPOS = 10\n",
        "N_PASOS = 10000 #Si se aumenta, aumenta la posibilidad de que el grupo que resulte sea más heterogeneo, pero el procesamiento demorará más\n",
        "N_UMBRAL = 500 #Si se aumenta, aumenta la posibilidad de que el grupo que resulte sea más heterogeneo, pero el procesamiento demorará más\n",
        "N_CANDIDATOS = 1000 #Si se aumenta, el resultado será mejor, pero el procesamiento demorará más"
      ],
      "execution_count": 1,
      "outputs": []
    },
    {
      "cell_type": "markdown",
      "metadata": {
        "id": "7qYpOviSHn8S"
      },
      "source": [
        "#0) Carga y Preprocesamiento"
      ]
    },
    {
      "cell_type": "code",
      "metadata": {
        "id": "e6IzZ1lH31kL"
      },
      "source": [
        "import pandas as pd"
      ],
      "execution_count": 2,
      "outputs": []
    },
    {
      "cell_type": "code",
      "metadata": {
        "id": "hS53JDfL-4NG"
      },
      "source": [
        "df = pd.read_csv('Inscripción.csv')"
      ],
      "execution_count": 3,
      "outputs": []
    },
    {
      "cell_type": "code",
      "metadata": {
        "id": "EWvyE7H61v6b",
        "outputId": "dd23aed6-0c9b-4076-802b-4709a1985e8a",
        "colab": {
          "base_uri": "https://localhost:8080/",
          "height": 0
        }
      },
      "source": [
        "df.describe()"
      ],
      "execution_count": 4,
      "outputs": [
        {
          "output_type": "execute_result",
          "data": {
            "text/html": [
              "<div>\n",
              "<style scoped>\n",
              "    .dataframe tbody tr th:only-of-type {\n",
              "        vertical-align: middle;\n",
              "    }\n",
              "\n",
              "    .dataframe tbody tr th {\n",
              "        vertical-align: top;\n",
              "    }\n",
              "\n",
              "    .dataframe thead th {\n",
              "        text-align: right;\n",
              "    }\n",
              "</style>\n",
              "<table border=\"1\" class=\"dataframe\">\n",
              "  <thead>\n",
              "    <tr style=\"text-align: right;\">\n",
              "      <th></th>\n",
              "      <th>¿Qué tanto conoces del tema preferido?</th>\n",
              "      <th>Edad</th>\n",
              "      <th>Número de celular</th>\n",
              "    </tr>\n",
              "  </thead>\n",
              "  <tbody>\n",
              "    <tr>\n",
              "      <th>count</th>\n",
              "      <td>84.000000</td>\n",
              "      <td>84.000000</td>\n",
              "      <td>8.400000e+01</td>\n",
              "    </tr>\n",
              "    <tr>\n",
              "      <th>mean</th>\n",
              "      <td>3.571429</td>\n",
              "      <td>22.928571</td>\n",
              "      <td>1.535308e+09</td>\n",
              "    </tr>\n",
              "    <tr>\n",
              "      <th>std</th>\n",
              "      <td>0.810856</td>\n",
              "      <td>3.233059</td>\n",
              "      <td>5.378152e+09</td>\n",
              "    </tr>\n",
              "    <tr>\n",
              "      <th>min</th>\n",
              "      <td>2.000000</td>\n",
              "      <td>17.000000</td>\n",
              "      <td>9.000000e+00</td>\n",
              "    </tr>\n",
              "    <tr>\n",
              "      <th>25%</th>\n",
              "      <td>3.000000</td>\n",
              "      <td>21.000000</td>\n",
              "      <td>9.423100e+08</td>\n",
              "    </tr>\n",
              "    <tr>\n",
              "      <th>50%</th>\n",
              "      <td>4.000000</td>\n",
              "      <td>22.000000</td>\n",
              "      <td>9.595067e+08</td>\n",
              "    </tr>\n",
              "    <tr>\n",
              "      <th>75%</th>\n",
              "      <td>4.000000</td>\n",
              "      <td>24.000000</td>\n",
              "      <td>9.851514e+08</td>\n",
              "    </tr>\n",
              "    <tr>\n",
              "      <th>max</th>\n",
              "      <td>5.000000</td>\n",
              "      <td>41.000000</td>\n",
              "      <td>5.023038e+10</td>\n",
              "    </tr>\n",
              "  </tbody>\n",
              "</table>\n",
              "</div>"
            ],
            "text/plain": [
              "       ¿Qué tanto conoces del tema preferido?      Edad   Número de celular\n",
              "count                               84.000000  84.000000       8.400000e+01\n",
              "mean                                 3.571429  22.928571       1.535308e+09\n",
              "std                                  0.810856   3.233059       5.378152e+09\n",
              "min                                  2.000000  17.000000       9.000000e+00\n",
              "25%                                  3.000000  21.000000       9.423100e+08\n",
              "50%                                  4.000000  22.000000       9.595067e+08\n",
              "75%                                  4.000000  24.000000       9.851514e+08\n",
              "max                                  5.000000  41.000000       5.023038e+10"
            ]
          },
          "metadata": {
            "tags": []
          },
          "execution_count": 4
        }
      ]
    },
    {
      "cell_type": "code",
      "metadata": {
        "id": "BKE0GykxLPWu",
        "outputId": "e3632c72-0039-4ef0-c293-3a28731eaf8d",
        "colab": {
          "base_uri": "https://localhost:8080/"
        }
      },
      "source": [
        "df.shape"
      ],
      "execution_count": 5,
      "outputs": [
        {
          "output_type": "execute_result",
          "data": {
            "text/plain": [
              "(84, 36)"
            ]
          },
          "metadata": {
            "tags": []
          },
          "execution_count": 5
        }
      ]
    },
    {
      "cell_type": "code",
      "metadata": {
        "id": "vIxFqni6_rMf",
        "outputId": "5b475966-dfd2-4863-cdf3-73a5304314f6",
        "colab": {
          "base_uri": "https://localhost:8080/",
          "height": 0
        }
      },
      "source": [
        "df.head()"
      ],
      "execution_count": 6,
      "outputs": [
        {
          "output_type": "execute_result",
          "data": {
            "text/html": [
              "<div>\n",
              "<style scoped>\n",
              "    .dataframe tbody tr th:only-of-type {\n",
              "        vertical-align: middle;\n",
              "    }\n",
              "\n",
              "    .dataframe tbody tr th {\n",
              "        vertical-align: top;\n",
              "    }\n",
              "\n",
              "    .dataframe thead th {\n",
              "        text-align: right;\n",
              "    }\n",
              "</style>\n",
              "<table border=\"1\" class=\"dataframe\">\n",
              "  <thead>\n",
              "    <tr style=\"text-align: right;\">\n",
              "      <th></th>\n",
              "      <th>Marca temporal</th>\n",
              "      <th>¿Cuál de los desafíos te motiva resolver?</th>\n",
              "      <th>¿Qué tanto conoces del tema preferido?</th>\n",
              "      <th>1. ¿Alguna vez has participado en alguna hackathon, concurso o experiencia de innovación?</th>\n",
              "      <th>2. ¿Cuál de las siguientes competencias / conocimientos dominas y te identificas?</th>\n",
              "      <th>3. Se presentará una lista de roles. En orden, elige los 5 roles que más te representen cuando trabajas en equipo. Recuerda, primero elige la que más te identifica y, así, progresivamente.</th>\n",
              "      <th>Unnamed: 6</th>\n",
              "      <th>Unnamed: 7</th>\n",
              "      <th>Unnamed: 8</th>\n",
              "      <th>Unnamed: 9</th>\n",
              "      <th>1. ¿Alguna vez has participado en alguna hackathon, concurso o experiencia de innovación?.1</th>\n",
              "      <th>2. ¿Con cuál de las siguientes competencias / conocimientos te identificas y dominas?</th>\n",
              "      <th>3. Se presentará una lista de roles. En orden, elige los 5 roles que más te representen cuando trabajas en equipo. Recuerda, primero elige la que más te identifica y, así, progresivamente..1</th>\n",
              "      <th>Unnamed: 13</th>\n",
              "      <th>Unnamed: 14</th>\n",
              "      <th>Unnamed: 15</th>\n",
              "      <th>Unnamed: 16</th>\n",
              "      <th>1. ¿Alguna vez has participado en alguna hackathon, concurso o experiencia de innovación?.2</th>\n",
              "      <th>2. ¿Con cuál de las siguientes competencias / conocimientos te identificas y dominas? .1</th>\n",
              "      <th>3. Se presentará una lista de roles. En orden, elige los 5 roles que más te representen cuando trabajas en equipo. Recuerda, primero elige la que más te identifica y, así, progresivamente..2</th>\n",
              "      <th>Unnamed: 20</th>\n",
              "      <th>Unnamed: 21</th>\n",
              "      <th>Unnamed: 22</th>\n",
              "      <th>Unnamed: 23</th>\n",
              "      <th>Apellidos</th>\n",
              "      <th>Nombres</th>\n",
              "      <th>Edad</th>\n",
              "      <th>Correo PUCP</th>\n",
              "      <th>Número de celular</th>\n",
              "      <th>Comunidad PUCP</th>\n",
              "      <th>Especialidad</th>\n",
              "      <th>El Open INN se realizará por 4 días (del sábado 14 al martes 17 de noviembre), empezará a las 10 a.m. y finalizará a las 5:00 p.m. ¿Estarás disponible en su totalidad?</th>\n",
              "      <th>Marca los bloques en el cual NO podrás participar. Se tomará en cuenta para la selección de participantes. [Sábado 14]</th>\n",
              "      <th>Marca los bloques en el cual NO podrás participar. Se tomará en cuenta para la selección de participantes. [Domingo 15]</th>\n",
              "      <th>Marca los bloques en el cual NO podrás participar. Se tomará en cuenta para la selección de participantes. [Lunes 16]</th>\n",
              "      <th>Marca los bloques en el cual NO podrás participar. Se tomará en cuenta para la selección de participantes. [Martes 17]</th>\n",
              "    </tr>\n",
              "  </thead>\n",
              "  <tbody>\n",
              "    <tr>\n",
              "      <th>0</th>\n",
              "      <td>2/11/2020 8:08:37</td>\n",
              "      <td>Desafío 1: ¿Cómo podemos motivar e impulsar la...</td>\n",
              "      <td>5</td>\n",
              "      <td>Sí, he participado 1 o 2 veces</td>\n",
              "      <td>Arquitectura Bioclimática / Agricultura Urbana...</td>\n",
              "      <td>Creativo/a (ej. propongo ideas)</td>\n",
              "      <td>Práctico/a (ej. convierto las ideas en acciones)</td>\n",
              "      <td>Mediador/a (ej. resuelvo los conflictos)</td>\n",
              "      <td>Evaluador/a (ej. controlo la calidad)</td>\n",
              "      <td>Metódico/a (ej. sistematizo los procesos)</td>\n",
              "      <td>NaN</td>\n",
              "      <td>NaN</td>\n",
              "      <td>NaN</td>\n",
              "      <td>NaN</td>\n",
              "      <td>NaN</td>\n",
              "      <td>NaN</td>\n",
              "      <td>NaN</td>\n",
              "      <td>NaN</td>\n",
              "      <td>NaN</td>\n",
              "      <td>NaN</td>\n",
              "      <td>NaN</td>\n",
              "      <td>NaN</td>\n",
              "      <td>NaN</td>\n",
              "      <td>NaN</td>\n",
              "      <td>Muñoz</td>\n",
              "      <td>Eizo</td>\n",
              "      <td>23</td>\n",
              "      <td>munoz.eizo@pucp.edu.pe</td>\n",
              "      <td>959506666</td>\n",
              "      <td>Estudiante</td>\n",
              "      <td>Ciencias e Ingeniería: Ingeniería Civil</td>\n",
              "      <td>Sí</td>\n",
              "      <td>NaN</td>\n",
              "      <td>NaN</td>\n",
              "      <td>NaN</td>\n",
              "      <td>NaN</td>\n",
              "    </tr>\n",
              "    <tr>\n",
              "      <th>1</th>\n",
              "      <td>3/11/2020 17:12:41</td>\n",
              "      <td>Desafío 1: ¿Cómo podemos motivar e impulsar la...</td>\n",
              "      <td>3</td>\n",
              "      <td>No</td>\n",
              "      <td>Metodologías de Innovación Social / User Exper...</td>\n",
              "      <td>Práctico/a (ej. convierto las ideas en acciones)</td>\n",
              "      <td>Metódico/a (ej. sistematizo los procesos)</td>\n",
              "      <td>Creativo/a (ej. propongo ideas)</td>\n",
              "      <td>Investigador/a (ej. me especializo en algún tema)</td>\n",
              "      <td>Evaluador/a (ej. controlo la calidad)</td>\n",
              "      <td>NaN</td>\n",
              "      <td>NaN</td>\n",
              "      <td>NaN</td>\n",
              "      <td>NaN</td>\n",
              "      <td>NaN</td>\n",
              "      <td>NaN</td>\n",
              "      <td>NaN</td>\n",
              "      <td>NaN</td>\n",
              "      <td>NaN</td>\n",
              "      <td>NaN</td>\n",
              "      <td>NaN</td>\n",
              "      <td>NaN</td>\n",
              "      <td>NaN</td>\n",
              "      <td>NaN</td>\n",
              "      <td>Navarro Fuentes</td>\n",
              "      <td>Roelmer Bilzaí</td>\n",
              "      <td>32</td>\n",
              "      <td>Roditas23@gmail.com</td>\n",
              "      <td>50230380644</td>\n",
              "      <td>Otro</td>\n",
              "      <td>Ciencias e Ingeniería: Ingeniería Geológica</td>\n",
              "      <td>Sí</td>\n",
              "      <td>NaN</td>\n",
              "      <td>NaN</td>\n",
              "      <td>NaN</td>\n",
              "      <td>NaN</td>\n",
              "    </tr>\n",
              "    <tr>\n",
              "      <th>2</th>\n",
              "      <td>4/11/2020 10:37:55</td>\n",
              "      <td>Desafío 1: ¿Cómo podemos motivar e impulsar la...</td>\n",
              "      <td>2</td>\n",
              "      <td>No</td>\n",
              "      <td>Psicología Social / Economía Conductual, Diseñ...</td>\n",
              "      <td>Evaluador/a (ej. controlo la calidad)</td>\n",
              "      <td>Investigador/a (ej. me especializo en algún tema)</td>\n",
              "      <td>Coordinador/a (ej. delego tareas)</td>\n",
              "      <td>Creativo/a (ej. propongo ideas)</td>\n",
              "      <td>Metódico/a (ej. sistematizo los procesos)</td>\n",
              "      <td>NaN</td>\n",
              "      <td>NaN</td>\n",
              "      <td>NaN</td>\n",
              "      <td>NaN</td>\n",
              "      <td>NaN</td>\n",
              "      <td>NaN</td>\n",
              "      <td>NaN</td>\n",
              "      <td>NaN</td>\n",
              "      <td>NaN</td>\n",
              "      <td>NaN</td>\n",
              "      <td>NaN</td>\n",
              "      <td>NaN</td>\n",
              "      <td>NaN</td>\n",
              "      <td>NaN</td>\n",
              "      <td>Aguirre ingunza</td>\n",
              "      <td>Nathalia</td>\n",
              "      <td>21</td>\n",
              "      <td>n.aguirre@pucp.edu.pe</td>\n",
              "      <td>953648855</td>\n",
              "      <td>Estudiante</td>\n",
              "      <td>Arte y Diseño: Diseño Industrial</td>\n",
              "      <td>No, tengo un cruce de horarios</td>\n",
              "      <td>NaN</td>\n",
              "      <td>NaN</td>\n",
              "      <td>NaN</td>\n",
              "      <td>AM (10:00 - 1:00)</td>\n",
              "    </tr>\n",
              "    <tr>\n",
              "      <th>3</th>\n",
              "      <td>5/11/2020 2:34:57</td>\n",
              "      <td>Desafío 1: ¿Cómo podemos motivar e impulsar la...</td>\n",
              "      <td>4</td>\n",
              "      <td>Sí, he participado 1 o 2 veces</td>\n",
              "      <td>Tecnologías Ambientales y Ecológicas, Arquitec...</td>\n",
              "      <td>Creativo/a (ej. propongo ideas)</td>\n",
              "      <td>Coordinador/a (ej. delego tareas)</td>\n",
              "      <td>Impulsor/a (ej. fomento motivación)</td>\n",
              "      <td>Coordinador/a (ej. delego tareas)</td>\n",
              "      <td>Práctico/a (ej. convierto las ideas en acciones)</td>\n",
              "      <td>NaN</td>\n",
              "      <td>NaN</td>\n",
              "      <td>NaN</td>\n",
              "      <td>NaN</td>\n",
              "      <td>NaN</td>\n",
              "      <td>NaN</td>\n",
              "      <td>NaN</td>\n",
              "      <td>NaN</td>\n",
              "      <td>NaN</td>\n",
              "      <td>NaN</td>\n",
              "      <td>NaN</td>\n",
              "      <td>NaN</td>\n",
              "      <td>NaN</td>\n",
              "      <td>NaN</td>\n",
              "      <td>Munoz</td>\n",
              "      <td>Eizo</td>\n",
              "      <td>23</td>\n",
              "      <td>munoz.eizo@pucp.edu.pe</td>\n",
              "      <td>959506666</td>\n",
              "      <td>Estudiante</td>\n",
              "      <td>Ciencias e Ingeniería: Ingeniería Civil</td>\n",
              "      <td>Sí</td>\n",
              "      <td>NaN</td>\n",
              "      <td>NaN</td>\n",
              "      <td>NaN</td>\n",
              "      <td>NaN</td>\n",
              "    </tr>\n",
              "    <tr>\n",
              "      <th>4</th>\n",
              "      <td>5/11/2020 12:56:39</td>\n",
              "      <td>Desafío 1: ¿Cómo podemos motivar e impulsar la...</td>\n",
              "      <td>3</td>\n",
              "      <td>No</td>\n",
              "      <td>Gestión / Ingeniería Industrial /  Marketing &amp;...</td>\n",
              "      <td>Mediador/a (ej. resuelvo los conflictos)</td>\n",
              "      <td>Evaluador/a (ej. controlo la calidad)</td>\n",
              "      <td>Investigador/a (ej. me especializo en algún tema)</td>\n",
              "      <td>Creativo/a (ej. propongo ideas)</td>\n",
              "      <td>Metódico/a (ej. sistematizo los procesos)</td>\n",
              "      <td>NaN</td>\n",
              "      <td>NaN</td>\n",
              "      <td>NaN</td>\n",
              "      <td>NaN</td>\n",
              "      <td>NaN</td>\n",
              "      <td>NaN</td>\n",
              "      <td>NaN</td>\n",
              "      <td>NaN</td>\n",
              "      <td>NaN</td>\n",
              "      <td>NaN</td>\n",
              "      <td>NaN</td>\n",
              "      <td>NaN</td>\n",
              "      <td>NaN</td>\n",
              "      <td>NaN</td>\n",
              "      <td>Romero Romero</td>\n",
              "      <td>Niel</td>\n",
              "      <td>24</td>\n",
              "      <td>niel.romero@pucp.edu.pe</td>\n",
              "      <td>993146653</td>\n",
              "      <td>Estudiante</td>\n",
              "      <td>Gestión y Alta Dirección</td>\n",
              "      <td>Sí</td>\n",
              "      <td>NaN</td>\n",
              "      <td>NaN</td>\n",
              "      <td>NaN</td>\n",
              "      <td>NaN</td>\n",
              "    </tr>\n",
              "  </tbody>\n",
              "</table>\n",
              "</div>"
            ],
            "text/plain": [
              "       Marca temporal  ... Marca los bloques en el cual NO podrás participar. Se tomará en cuenta para la selección de participantes. [Martes 17]\n",
              "0   2/11/2020 8:08:37  ...                                                NaN                                                                    \n",
              "1  3/11/2020 17:12:41  ...                                                NaN                                                                    \n",
              "2  4/11/2020 10:37:55  ...                                  AM (10:00 - 1:00)                                                                    \n",
              "3   5/11/2020 2:34:57  ...                                                NaN                                                                    \n",
              "4  5/11/2020 12:56:39  ...                                                NaN                                                                    \n",
              "\n",
              "[5 rows x 36 columns]"
            ]
          },
          "metadata": {
            "tags": []
          },
          "execution_count": 6
        }
      ]
    },
    {
      "cell_type": "code",
      "metadata": {
        "id": "I6EpH9ZjEMQk"
      },
      "source": [
        "columnas = ['ExpTema','ExpHack','Comp','Rol1','Rol2','Rol3','Rol4','Rol5',\n",
        "            'Apellido','Nombres','Carrera','Correo PUCP','Número de celular']"
      ],
      "execution_count": 7,
      "outputs": []
    },
    {
      "cell_type": "code",
      "metadata": {
        "id": "GlTBIEOPUJuc"
      },
      "source": [
        "df.rename(columns={'¿Qué tanto conoces del tema preferido?':'ExpTema',\\\n",
        "                   '1. ¿Alguna vez has participado en alguna hackathon, concurso o experiencia de innovación?':'ExpHack',\\\n",
        "                   '2. ¿Cuál de las siguientes competencias / conocimientos dominas y te identificas? ':'Comp',\\\n",
        "                   '3. Se presentará una lista de roles. En orden, elige los 5 roles que más te representen cuando trabajas en equipo. Recuerda, primero elige la que más te identifica y, así, progresivamente.':'Rol1',\\\n",
        "                   'Unnamed: 6':'Rol2',\\\n",
        "                   'Unnamed: 7':'Rol3',\\\n",
        "                   'Unnamed: 8':'Rol4',\\\n",
        "                   'Unnamed: 9':'Rol5',\\\n",
        "                   'Apellidos':'Apellido',\n",
        "                   'Especialidad':'Carrera'}, inplace = True)"
      ],
      "execution_count": 8,
      "outputs": []
    },
    {
      "cell_type": "code",
      "metadata": {
        "id": "l2oGfDvwVVPB"
      },
      "source": [
        "df = df[columnas]"
      ],
      "execution_count": 9,
      "outputs": []
    },
    {
      "cell_type": "code",
      "metadata": {
        "id": "i3uQQj8qIiX-",
        "outputId": "1f9476bc-78b8-4fa5-8597-58494794a7c9",
        "colab": {
          "base_uri": "https://localhost:8080/",
          "height": 0
        }
      },
      "source": [
        "df.head()"
      ],
      "execution_count": 10,
      "outputs": [
        {
          "output_type": "execute_result",
          "data": {
            "text/html": [
              "<div>\n",
              "<style scoped>\n",
              "    .dataframe tbody tr th:only-of-type {\n",
              "        vertical-align: middle;\n",
              "    }\n",
              "\n",
              "    .dataframe tbody tr th {\n",
              "        vertical-align: top;\n",
              "    }\n",
              "\n",
              "    .dataframe thead th {\n",
              "        text-align: right;\n",
              "    }\n",
              "</style>\n",
              "<table border=\"1\" class=\"dataframe\">\n",
              "  <thead>\n",
              "    <tr style=\"text-align: right;\">\n",
              "      <th></th>\n",
              "      <th>ExpTema</th>\n",
              "      <th>ExpHack</th>\n",
              "      <th>Comp</th>\n",
              "      <th>Rol1</th>\n",
              "      <th>Rol2</th>\n",
              "      <th>Rol3</th>\n",
              "      <th>Rol4</th>\n",
              "      <th>Rol5</th>\n",
              "      <th>Apellido</th>\n",
              "      <th>Nombres</th>\n",
              "      <th>Carrera</th>\n",
              "      <th>Correo PUCP</th>\n",
              "      <th>Número de celular</th>\n",
              "    </tr>\n",
              "  </thead>\n",
              "  <tbody>\n",
              "    <tr>\n",
              "      <th>0</th>\n",
              "      <td>5</td>\n",
              "      <td>Sí, he participado 1 o 2 veces</td>\n",
              "      <td>Arquitectura Bioclimática / Agricultura Urbana...</td>\n",
              "      <td>Creativo/a (ej. propongo ideas)</td>\n",
              "      <td>Práctico/a (ej. convierto las ideas en acciones)</td>\n",
              "      <td>Mediador/a (ej. resuelvo los conflictos)</td>\n",
              "      <td>Evaluador/a (ej. controlo la calidad)</td>\n",
              "      <td>Metódico/a (ej. sistematizo los procesos)</td>\n",
              "      <td>Muñoz</td>\n",
              "      <td>Eizo</td>\n",
              "      <td>Ciencias e Ingeniería: Ingeniería Civil</td>\n",
              "      <td>munoz.eizo@pucp.edu.pe</td>\n",
              "      <td>959506666</td>\n",
              "    </tr>\n",
              "    <tr>\n",
              "      <th>1</th>\n",
              "      <td>3</td>\n",
              "      <td>No</td>\n",
              "      <td>Metodologías de Innovación Social / User Exper...</td>\n",
              "      <td>Práctico/a (ej. convierto las ideas en acciones)</td>\n",
              "      <td>Metódico/a (ej. sistematizo los procesos)</td>\n",
              "      <td>Creativo/a (ej. propongo ideas)</td>\n",
              "      <td>Investigador/a (ej. me especializo en algún tema)</td>\n",
              "      <td>Evaluador/a (ej. controlo la calidad)</td>\n",
              "      <td>Navarro Fuentes</td>\n",
              "      <td>Roelmer Bilzaí</td>\n",
              "      <td>Ciencias e Ingeniería: Ingeniería Geológica</td>\n",
              "      <td>Roditas23@gmail.com</td>\n",
              "      <td>50230380644</td>\n",
              "    </tr>\n",
              "    <tr>\n",
              "      <th>2</th>\n",
              "      <td>2</td>\n",
              "      <td>No</td>\n",
              "      <td>Psicología Social / Economía Conductual, Diseñ...</td>\n",
              "      <td>Evaluador/a (ej. controlo la calidad)</td>\n",
              "      <td>Investigador/a (ej. me especializo en algún tema)</td>\n",
              "      <td>Coordinador/a (ej. delego tareas)</td>\n",
              "      <td>Creativo/a (ej. propongo ideas)</td>\n",
              "      <td>Metódico/a (ej. sistematizo los procesos)</td>\n",
              "      <td>Aguirre ingunza</td>\n",
              "      <td>Nathalia</td>\n",
              "      <td>Arte y Diseño: Diseño Industrial</td>\n",
              "      <td>n.aguirre@pucp.edu.pe</td>\n",
              "      <td>953648855</td>\n",
              "    </tr>\n",
              "    <tr>\n",
              "      <th>3</th>\n",
              "      <td>4</td>\n",
              "      <td>Sí, he participado 1 o 2 veces</td>\n",
              "      <td>Tecnologías Ambientales y Ecológicas, Arquitec...</td>\n",
              "      <td>Creativo/a (ej. propongo ideas)</td>\n",
              "      <td>Coordinador/a (ej. delego tareas)</td>\n",
              "      <td>Impulsor/a (ej. fomento motivación)</td>\n",
              "      <td>Coordinador/a (ej. delego tareas)</td>\n",
              "      <td>Práctico/a (ej. convierto las ideas en acciones)</td>\n",
              "      <td>Munoz</td>\n",
              "      <td>Eizo</td>\n",
              "      <td>Ciencias e Ingeniería: Ingeniería Civil</td>\n",
              "      <td>munoz.eizo@pucp.edu.pe</td>\n",
              "      <td>959506666</td>\n",
              "    </tr>\n",
              "    <tr>\n",
              "      <th>4</th>\n",
              "      <td>3</td>\n",
              "      <td>No</td>\n",
              "      <td>Gestión / Ingeniería Industrial /  Marketing &amp;...</td>\n",
              "      <td>Mediador/a (ej. resuelvo los conflictos)</td>\n",
              "      <td>Evaluador/a (ej. controlo la calidad)</td>\n",
              "      <td>Investigador/a (ej. me especializo en algún tema)</td>\n",
              "      <td>Creativo/a (ej. propongo ideas)</td>\n",
              "      <td>Metódico/a (ej. sistematizo los procesos)</td>\n",
              "      <td>Romero Romero</td>\n",
              "      <td>Niel</td>\n",
              "      <td>Gestión y Alta Dirección</td>\n",
              "      <td>niel.romero@pucp.edu.pe</td>\n",
              "      <td>993146653</td>\n",
              "    </tr>\n",
              "  </tbody>\n",
              "</table>\n",
              "</div>"
            ],
            "text/plain": [
              "   ExpTema  ... Número de celular\n",
              "0        5  ...         959506666\n",
              "1        3  ...       50230380644\n",
              "2        2  ...         953648855\n",
              "3        4  ...         959506666\n",
              "4        3  ...         993146653\n",
              "\n",
              "[5 rows x 13 columns]"
            ]
          },
          "metadata": {
            "tags": []
          },
          "execution_count": 10
        }
      ]
    },
    {
      "cell_type": "code",
      "metadata": {
        "id": "YyVSuTp5yRVC"
      },
      "source": [
        "df = df.applymap(lambda x:  x.strip() if (isinstance(x, str)) else x)"
      ],
      "execution_count": 11,
      "outputs": []
    },
    {
      "cell_type": "markdown",
      "metadata": {
        "id": "j7BUvb9XJKPi"
      },
      "source": [
        "#1) mini EDA"
      ]
    },
    {
      "cell_type": "code",
      "metadata": {
        "id": "5_FOlHC7Im-5",
        "outputId": "df468c44-786c-44b8-a945-7fa9c01575c6",
        "colab": {
          "base_uri": "https://localhost:8080/"
        }
      },
      "source": [
        "df['ExpTema'].value_counts()"
      ],
      "execution_count": 12,
      "outputs": [
        {
          "output_type": "execute_result",
          "data": {
            "text/plain": [
              "4    38\n",
              "3    29\n",
              "5     9\n",
              "2     8\n",
              "Name: ExpTema, dtype: int64"
            ]
          },
          "metadata": {
            "tags": []
          },
          "execution_count": 12
        }
      ]
    },
    {
      "cell_type": "code",
      "metadata": {
        "id": "5qHahHuSJTEt",
        "outputId": "5f1ace5c-6da3-491f-8e63-a38400e8d78c",
        "colab": {
          "base_uri": "https://localhost:8080/"
        }
      },
      "source": [
        "df['ExpHack'].value_counts()"
      ],
      "execution_count": 13,
      "outputs": [
        {
          "output_type": "execute_result",
          "data": {
            "text/plain": [
              "No                                       44\n",
              "Sí, he participado 1 o 2 veces           35\n",
              "Sí, he participado en varias de ellas     5\n",
              "Name: ExpHack, dtype: int64"
            ]
          },
          "metadata": {
            "tags": []
          },
          "execution_count": 13
        }
      ]
    },
    {
      "cell_type": "code",
      "metadata": {
        "id": "NtdLavfKQtTN"
      },
      "source": [
        "COL_ROLES = ['Rol1','Rol2','Rol3','Rol4','Rol5']\n",
        "df[COL_ROLES] = df[COL_ROLES].applymap(lambda x: x.split()[0])"
      ],
      "execution_count": 14,
      "outputs": []
    },
    {
      "cell_type": "code",
      "metadata": {
        "id": "UOXcvFkFJj0c",
        "outputId": "8e51f9c2-8452-4c57-b463-060ad36ea72f",
        "colab": {
          "base_uri": "https://localhost:8080/"
        }
      },
      "source": [
        "df['Comp'].value_counts()"
      ],
      "execution_count": 15,
      "outputs": [
        {
          "output_type": "execute_result",
          "data": {
            "text/plain": [
              "Gestión / Ingeniería Industrial /  Marketing & Gestión Comercial                                                                                                                                                                                                                                                 8\n",
              "Tecnología e Ingeniería (Software - Informática, Electrónica, Mecatrónica, etc.)                                                                                                                                                                                                                                 4\n",
              "Tecnología e Ingeniería (Software - Informática, Electrónica, Mecatrónica, etc.), Diseño de Prototipos (Render, Figma, Marvel App, Ai, Ps etc.) / Creación de Páginas Web                                                                                                                                        3\n",
              "Diseño de Prototipos (Render, modelado 3D Sketchup, Archicad, Figma, Ai, Ps etc.), Diseño de productos / diseño de servicios, Metodologías de innovación social / User Experience / Diseño centrado en usuario                                                                                                   3\n",
              "Tecnologías Ambientales y Ecológicas, Tecnología e Ingeniería (Software - Informática, Electrónica, Mecatrónica, etc.), Gestión de recursos naturales dentro del hogar                                                                                                                                           2\n",
              "                                                                                                                                                                                                                                                                                                                ..\n",
              "Tecnologías Ambientales y Ecológicas, Arquitectura Bioclimática / Agricultura Urbana, Psicología Social / Economía Conductual, Diseño de productos / Diseño de servicios, Gestión de recursos naturales dentro del hogar, Metodologías de Innovación Social / User Experience / Diseño centrado en el usuario    1\n",
              "Tecnologías Ambientales y Ecológicas, Gestión / Ingeniería Industrial /  Marketing & Gestión Comercial, Diseño de Prototipos (Render, Figma, Marvel App, Ai, Ps etc.) / Creación de Páginas Web                                                                                                                  1\n",
              "Género y Masculinidades                                                                                                                                                                                                                                                                                          1\n",
              "Tecnologías Ambientales y Ecológicas, Gestión de recursos naturales dentro del hogar, Metodologías de Innovación Social / User Experience / Diseño centrado en el usuario                                                                                                                                        1\n",
              "Género y Masculinidades, Diseño de productos / diseño de servicios, Metodologías de innovación social / User Experience / Diseño centrado en usuario                                                                                                                                                             1\n",
              "Name: Comp, Length: 61, dtype: int64"
            ]
          },
          "metadata": {
            "tags": []
          },
          "execution_count": 15
        }
      ]
    },
    {
      "cell_type": "code",
      "metadata": {
        "id": "XUJDKvOtacCu",
        "outputId": "6c202727-6f09-4a24-acda-257387b647d7",
        "colab": {
          "base_uri": "https://localhost:8080/"
        }
      },
      "source": [
        "df['Carrera'].value_counts()"
      ],
      "execution_count": 16,
      "outputs": [
        {
          "output_type": "execute_result",
          "data": {
            "text/plain": [
              "Ciencias e Ingeniería: Ingeniería Industrial                            16\n",
              "Gestión y Alta Dirección                                                15\n",
              "Ciencias e Ingeniería: Ingeniería Mecatrónica                            9\n",
              "Arte y Diseño: Diseño Industrial                                         8\n",
              "Ciencias e Ingeniería: Ingeniería Civil                                  7\n",
              "Psicología                                                               6\n",
              "Ciencias Sociales: Economía                                              3\n",
              "Arquitectura y Urbanismo                                                 3\n",
              "Educación                                                                3\n",
              "Ciencias e Ingeniería: Ingeniería Electrónica                            3\n",
              "Estudios Generales Letras                                                2\n",
              "Ciencias e Ingeniería: Ingeniería Biomédica                              2\n",
              "Arte y Diseño: Pintura                                                   1\n",
              "Ciencias y Artes de la Comunicación: Publicidad                          1\n",
              "Ciencias y Artes de la Comunicación: Comunicación para el Desarrollo     1\n",
              "Ciencias e Ingeniería: Ingeniería Informática                            1\n",
              "Ciencias e Ingeniería: Ingeniería Mecánica                               1\n",
              "Ciencias e Ingeniería: Ingeniería Geológica                              1\n",
              "Ciencias Sociales: Ciencia Política y Gobierno                           1\n",
              "Name: Carrera, dtype: int64"
            ]
          },
          "metadata": {
            "tags": []
          },
          "execution_count": 16
        }
      ]
    },
    {
      "cell_type": "code",
      "metadata": {
        "id": "TOO3ssxiaWq2",
        "outputId": "7d79d9eb-f9bd-439d-d3ad-d5e3b056f682",
        "colab": {
          "base_uri": "https://localhost:8080/"
        }
      },
      "source": [
        "df.columns"
      ],
      "execution_count": 17,
      "outputs": [
        {
          "output_type": "execute_result",
          "data": {
            "text/plain": [
              "Index(['ExpTema', 'ExpHack', 'Comp', 'Rol1', 'Rol2', 'Rol3', 'Rol4', 'Rol5',\n",
              "       'Apellido', 'Nombres', 'Carrera', 'Correo PUCP', 'Número de celular'],\n",
              "      dtype='object')"
            ]
          },
          "metadata": {
            "tags": []
          },
          "execution_count": 17
        }
      ]
    },
    {
      "cell_type": "markdown",
      "metadata": {
        "id": "tEvcxAt9vLxZ"
      },
      "source": [
        "#Preprocesar Competencias"
      ]
    },
    {
      "cell_type": "code",
      "metadata": {
        "id": "cLhDaew5v0d3"
      },
      "source": [
        "#To-do\n",
        "#Identificar las competencias posibles\n",
        "#Para cada persona, crear una lista de competencias\n",
        "test = df['Comp'].map(lambda x: x.replace(\" \", \"\").split(','))"
      ],
      "execution_count": 18,
      "outputs": []
    },
    {
      "cell_type": "code",
      "metadata": {
        "id": "ysvYuPWpxSu1",
        "outputId": "ff5cf384-fdf0-4f66-9c71-7a360d5fb7e1",
        "colab": {
          "base_uri": "https://localhost:8080/"
        }
      },
      "source": [
        "set([i for l in test for i in l ])"
      ],
      "execution_count": 19,
      "outputs": [
        {
          "output_type": "execute_result",
          "data": {
            "text/plain": [
              "{'Ai',\n",
              " 'Archicad',\n",
              " 'ArquitecturaBioclimática/AgriculturaUrbana',\n",
              " 'Arte',\n",
              " 'ComunicaciónEfectiva/RelacionesPúblicas',\n",
              " 'DerechosHumanosyMedioAmbiente',\n",
              " 'Desarrollosostenible',\n",
              " 'DiseñodePrototipos(Render',\n",
              " 'Diseñodeproductos/Diseñodeservicios',\n",
              " 'Diseñodeproductos/diseñodeservicios',\n",
              " 'Electrónica',\n",
              " 'Figma',\n",
              " 'Gestión/IngenieríaIndustrial/Marketing&GestiónComercial',\n",
              " 'Gestióndeproyectosyprocesos',\n",
              " 'Gestiónderecursosnaturalesdentrodelhogar',\n",
              " 'Gestiónsocialyempresarial',\n",
              " 'Género',\n",
              " 'GéneroyMasculinidades',\n",
              " 'MarvelApp',\n",
              " 'Mecatrónica',\n",
              " 'MetodologíasdeInnovaciónSocial/UserExperience/Diseñocentradoenelusuario',\n",
              " 'Metodologíasdeinnovaciónsocial/UserExperience/Diseñocentradoenusuario',\n",
              " 'Psetc.)',\n",
              " 'Psetc.)/CreacióndePáginasWeb',\n",
              " 'PsicologíaEducacional',\n",
              " 'PsicologíaSocial/EconomíaConductual',\n",
              " 'PsicologíaSocial/EconomíaConductual/CienciasdelaSalud',\n",
              " 'Psicologíaeducacional',\n",
              " 'Sketchup',\n",
              " 'Sociología/Antropología',\n",
              " 'SostenibilidadAmbientaleInnovación',\n",
              " 'TecnologíaeIngeniería(Software-Informática',\n",
              " 'TecnologíasAmbientalesyEcológicas',\n",
              " 'TecnologíasEmergentes/TecnologíaSocial',\n",
              " 'aprendizaje',\n",
              " 'desarrollohumano',\n",
              " 'desarrollohumanoydiseñoinstruccional.',\n",
              " 'diseñoinstruccional',\n",
              " 'etc.)',\n",
              " 'investigación',\n",
              " 'modelado3D',\n",
              " 'modelado3DSketchup',\n",
              " 'patronesdegéneroyrelacionesfamiliares',\n",
              " 'saludmental',\n",
              " 'teoríasdeaprendizaje',\n",
              " 'trabajoconfamilias'}"
            ]
          },
          "metadata": {
            "tags": []
          },
          "execution_count": 19
        }
      ]
    },
    {
      "cell_type": "code",
      "metadata": {
        "id": "6X4xi19_x4tn"
      },
      "source": [
        "df['CompList'] = test"
      ],
      "execution_count": 20,
      "outputs": []
    },
    {
      "cell_type": "code",
      "metadata": {
        "id": "BgPfgywOzgwk",
        "outputId": "f703652e-66ac-40f6-83c8-82aaba58e0b5",
        "colab": {
          "base_uri": "https://localhost:8080/",
          "height": 0
        }
      },
      "source": [
        "df.head()"
      ],
      "execution_count": 21,
      "outputs": [
        {
          "output_type": "execute_result",
          "data": {
            "text/html": [
              "<div>\n",
              "<style scoped>\n",
              "    .dataframe tbody tr th:only-of-type {\n",
              "        vertical-align: middle;\n",
              "    }\n",
              "\n",
              "    .dataframe tbody tr th {\n",
              "        vertical-align: top;\n",
              "    }\n",
              "\n",
              "    .dataframe thead th {\n",
              "        text-align: right;\n",
              "    }\n",
              "</style>\n",
              "<table border=\"1\" class=\"dataframe\">\n",
              "  <thead>\n",
              "    <tr style=\"text-align: right;\">\n",
              "      <th></th>\n",
              "      <th>ExpTema</th>\n",
              "      <th>ExpHack</th>\n",
              "      <th>Comp</th>\n",
              "      <th>Rol1</th>\n",
              "      <th>Rol2</th>\n",
              "      <th>Rol3</th>\n",
              "      <th>Rol4</th>\n",
              "      <th>Rol5</th>\n",
              "      <th>Apellido</th>\n",
              "      <th>Nombres</th>\n",
              "      <th>Carrera</th>\n",
              "      <th>Correo PUCP</th>\n",
              "      <th>Número de celular</th>\n",
              "      <th>CompList</th>\n",
              "    </tr>\n",
              "  </thead>\n",
              "  <tbody>\n",
              "    <tr>\n",
              "      <th>0</th>\n",
              "      <td>5</td>\n",
              "      <td>Sí, he participado 1 o 2 veces</td>\n",
              "      <td>Arquitectura Bioclimática / Agricultura Urbana...</td>\n",
              "      <td>Creativo/a</td>\n",
              "      <td>Práctico/a</td>\n",
              "      <td>Mediador/a</td>\n",
              "      <td>Evaluador/a</td>\n",
              "      <td>Metódico/a</td>\n",
              "      <td>Muñoz</td>\n",
              "      <td>Eizo</td>\n",
              "      <td>Ciencias e Ingeniería: Ingeniería Civil</td>\n",
              "      <td>munoz.eizo@pucp.edu.pe</td>\n",
              "      <td>959506666</td>\n",
              "      <td>[ArquitecturaBioclimática/AgriculturaUrbana, G...</td>\n",
              "    </tr>\n",
              "    <tr>\n",
              "      <th>1</th>\n",
              "      <td>3</td>\n",
              "      <td>No</td>\n",
              "      <td>Metodologías de Innovación Social / User Exper...</td>\n",
              "      <td>Práctico/a</td>\n",
              "      <td>Metódico/a</td>\n",
              "      <td>Creativo/a</td>\n",
              "      <td>Investigador/a</td>\n",
              "      <td>Evaluador/a</td>\n",
              "      <td>Navarro Fuentes</td>\n",
              "      <td>Roelmer Bilzaí</td>\n",
              "      <td>Ciencias e Ingeniería: Ingeniería Geológica</td>\n",
              "      <td>Roditas23@gmail.com</td>\n",
              "      <td>50230380644</td>\n",
              "      <td>[MetodologíasdeInnovaciónSocial/UserExperience...</td>\n",
              "    </tr>\n",
              "    <tr>\n",
              "      <th>2</th>\n",
              "      <td>2</td>\n",
              "      <td>No</td>\n",
              "      <td>Psicología Social / Economía Conductual, Diseñ...</td>\n",
              "      <td>Evaluador/a</td>\n",
              "      <td>Investigador/a</td>\n",
              "      <td>Coordinador/a</td>\n",
              "      <td>Creativo/a</td>\n",
              "      <td>Metódico/a</td>\n",
              "      <td>Aguirre ingunza</td>\n",
              "      <td>Nathalia</td>\n",
              "      <td>Arte y Diseño: Diseño Industrial</td>\n",
              "      <td>n.aguirre@pucp.edu.pe</td>\n",
              "      <td>953648855</td>\n",
              "      <td>[PsicologíaSocial/EconomíaConductual, Diseñode...</td>\n",
              "    </tr>\n",
              "    <tr>\n",
              "      <th>3</th>\n",
              "      <td>4</td>\n",
              "      <td>Sí, he participado 1 o 2 veces</td>\n",
              "      <td>Tecnologías Ambientales y Ecológicas, Arquitec...</td>\n",
              "      <td>Creativo/a</td>\n",
              "      <td>Coordinador/a</td>\n",
              "      <td>Impulsor/a</td>\n",
              "      <td>Coordinador/a</td>\n",
              "      <td>Práctico/a</td>\n",
              "      <td>Munoz</td>\n",
              "      <td>Eizo</td>\n",
              "      <td>Ciencias e Ingeniería: Ingeniería Civil</td>\n",
              "      <td>munoz.eizo@pucp.edu.pe</td>\n",
              "      <td>959506666</td>\n",
              "      <td>[TecnologíasAmbientalesyEcológicas, Arquitectu...</td>\n",
              "    </tr>\n",
              "    <tr>\n",
              "      <th>4</th>\n",
              "      <td>3</td>\n",
              "      <td>No</td>\n",
              "      <td>Gestión / Ingeniería Industrial /  Marketing &amp;...</td>\n",
              "      <td>Mediador/a</td>\n",
              "      <td>Evaluador/a</td>\n",
              "      <td>Investigador/a</td>\n",
              "      <td>Creativo/a</td>\n",
              "      <td>Metódico/a</td>\n",
              "      <td>Romero Romero</td>\n",
              "      <td>Niel</td>\n",
              "      <td>Gestión y Alta Dirección</td>\n",
              "      <td>niel.romero@pucp.edu.pe</td>\n",
              "      <td>993146653</td>\n",
              "      <td>[Gestión/IngenieríaIndustrial/Marketing&amp;Gestió...</td>\n",
              "    </tr>\n",
              "  </tbody>\n",
              "</table>\n",
              "</div>"
            ],
            "text/plain": [
              "   ExpTema  ...                                           CompList\n",
              "0        5  ...  [ArquitecturaBioclimática/AgriculturaUrbana, G...\n",
              "1        3  ...  [MetodologíasdeInnovaciónSocial/UserExperience...\n",
              "2        2  ...  [PsicologíaSocial/EconomíaConductual, Diseñode...\n",
              "3        4  ...  [TecnologíasAmbientalesyEcológicas, Arquitectu...\n",
              "4        3  ...  [Gestión/IngenieríaIndustrial/Marketing&Gestió...\n",
              "\n",
              "[5 rows x 14 columns]"
            ]
          },
          "metadata": {
            "tags": []
          },
          "execution_count": 21
        }
      ]
    },
    {
      "cell_type": "markdown",
      "metadata": {
        "id": "Cmiv21vlvusp"
      },
      "source": [
        "#Preprocessar Carreras"
      ]
    },
    {
      "cell_type": "code",
      "metadata": {
        "id": "-kVEu39VzoJi"
      },
      "source": [
        "#To-do\n",
        "#Identificar las carreras posibles\n",
        "#Hacer reemplazos equivalentes (arquitecto = arquitectura ~= arq y urb) Hardcodeo aquí\n",
        "#Para cada persona, crear una lista de competencias"
      ],
      "execution_count": 22,
      "outputs": []
    },
    {
      "cell_type": "markdown",
      "metadata": {
        "id": "XXakDo-UK42N"
      },
      "source": [
        "#Preprocesar roles"
      ]
    },
    {
      "cell_type": "markdown",
      "metadata": {
        "id": "s-RDDFKoUA1J"
      },
      "source": [
        "Los roles convierten a cada persona en un vector con las siguientes dimensiones ['Práctico/a',\n",
        " 'Creativo/a',\n",
        " 'Coordinador/a',\n",
        " 'Mediador/a',\n",
        " 'Metódico/a',\n",
        " 'Impulsor/a',\n",
        " 'Investigador/a',\n",
        " 'Evaluador/a']. Si yo marqué que mi rol1 es Práctico, mi rol2 es Metódico, rol3 Mediador, rol4 Investigador y rol5 Coordinador; mi vector será [16,1,4,8,0,2,0]."
      ]
    },
    {
      "cell_type": "code",
      "metadata": {
        "id": "ZeyPVIUiJlW6",
        "outputId": "c5389486-c283-4c2e-8949-2845a5cd413d",
        "colab": {
          "base_uri": "https://localhost:8080/"
        }
      },
      "source": [
        "COL_ROLES = ['Rol1','Rol2','Rol3','Rol4','Rol5']\n",
        "roles = pd.concat([df[r] for r in COL_ROLES]).value_counts()\n",
        "ROLES = list(pd.Series(roles.index).map(lambda x: x.split()[0]).values)\n",
        "ROLES"
      ],
      "execution_count": 23,
      "outputs": [
        {
          "output_type": "execute_result",
          "data": {
            "text/plain": [
              "['Creativo/a',\n",
              " 'Coordinador/a',\n",
              " 'Práctico/a',\n",
              " 'Investigador/a',\n",
              " 'Evaluador/a',\n",
              " 'Mediador/a',\n",
              " 'Impulsor/a',\n",
              " 'Metódico/a']"
            ]
          },
          "metadata": {
            "tags": []
          },
          "execution_count": 23
        }
      ]
    },
    {
      "cell_type": "code",
      "metadata": {
        "id": "AYK2PnG9Kxaj"
      },
      "source": [
        "import numpy as np\n",
        "\n",
        "def rank_rol(row):\n",
        "  d = dict(zip(ROLES,[0]*len(ROLES)))\n",
        "\n",
        "  peso = 16\n",
        "  for col in COL_ROLES:\n",
        "    d[row[col]] = peso \n",
        "    peso = peso / 2\n",
        "\n",
        "  return np.array(list(d.values()))"
      ],
      "execution_count": 24,
      "outputs": []
    },
    {
      "cell_type": "code",
      "metadata": {
        "id": "4deNUPqVMqkI"
      },
      "source": [
        "vectores_roles = df.apply(rank_rol, axis=1)"
      ],
      "execution_count": 25,
      "outputs": []
    },
    {
      "cell_type": "markdown",
      "metadata": {
        "id": "vMxEily1wAvS"
      },
      "source": [
        "#Crear personas"
      ]
    },
    {
      "cell_type": "code",
      "metadata": {
        "id": "LdnTRYVSTExI"
      },
      "source": [
        "class persona:\n",
        "  def __init__(self,pesos,carrera,competencia,exp_tema,exp_hack,apellido,nombres,correo,tlf):\n",
        "    self.pesos = pesos\n",
        "    self.carrera = carrera\n",
        "    self.competencia = competencia\n",
        "    self.exp_tema = exp_tema\n",
        "    self.apellido = apellido\n",
        "    self.nombres = nombres\n",
        "    self.correo = correo\n",
        "    self.tlf = tlf\n",
        "\n",
        "    if (exp_hack == 'Sí, he participado 1 o 2 veces'): self.exp_hack = 2\n",
        "    elif (exp_hack == 'Sí, he participado en varias de ellas'): self.exp_hack = 5\n",
        "    else: self.exp_hack = 1\n"
      ],
      "execution_count": 26,
      "outputs": []
    },
    {
      "cell_type": "code",
      "metadata": {
        "id": "4R-LF1MUZsW7"
      },
      "source": [
        "def crear_persona(row):\n",
        "  pesos = rank_rol(row)\n",
        "\n",
        "  return persona(pesos,row['Carrera'],row['CompList'],row['ExpTema'],row['ExpHack'],row['Apellido'],row['Nombres'],row['Correo PUCP'],row['Número de celular'])"
      ],
      "execution_count": 27,
      "outputs": []
    },
    {
      "cell_type": "code",
      "metadata": {
        "id": "IPnahgkCcVd-"
      },
      "source": [
        "personas = list(df.apply(crear_persona, axis=1).values)"
      ],
      "execution_count": 28,
      "outputs": []
    },
    {
      "cell_type": "code",
      "metadata": {
        "id": "AqholVJ6dHqw",
        "outputId": "038dcfc9-cb2d-453d-8d9f-2b6e2d698913",
        "colab": {
          "base_uri": "https://localhost:8080/",
          "height": 0
        }
      },
      "source": [
        "df.head()"
      ],
      "execution_count": 29,
      "outputs": [
        {
          "output_type": "execute_result",
          "data": {
            "text/html": [
              "<div>\n",
              "<style scoped>\n",
              "    .dataframe tbody tr th:only-of-type {\n",
              "        vertical-align: middle;\n",
              "    }\n",
              "\n",
              "    .dataframe tbody tr th {\n",
              "        vertical-align: top;\n",
              "    }\n",
              "\n",
              "    .dataframe thead th {\n",
              "        text-align: right;\n",
              "    }\n",
              "</style>\n",
              "<table border=\"1\" class=\"dataframe\">\n",
              "  <thead>\n",
              "    <tr style=\"text-align: right;\">\n",
              "      <th></th>\n",
              "      <th>ExpTema</th>\n",
              "      <th>ExpHack</th>\n",
              "      <th>Comp</th>\n",
              "      <th>Rol1</th>\n",
              "      <th>Rol2</th>\n",
              "      <th>Rol3</th>\n",
              "      <th>Rol4</th>\n",
              "      <th>Rol5</th>\n",
              "      <th>Apellido</th>\n",
              "      <th>Nombres</th>\n",
              "      <th>Carrera</th>\n",
              "      <th>Correo PUCP</th>\n",
              "      <th>Número de celular</th>\n",
              "      <th>CompList</th>\n",
              "    </tr>\n",
              "  </thead>\n",
              "  <tbody>\n",
              "    <tr>\n",
              "      <th>0</th>\n",
              "      <td>5</td>\n",
              "      <td>Sí, he participado 1 o 2 veces</td>\n",
              "      <td>Arquitectura Bioclimática / Agricultura Urbana...</td>\n",
              "      <td>Creativo/a</td>\n",
              "      <td>Práctico/a</td>\n",
              "      <td>Mediador/a</td>\n",
              "      <td>Evaluador/a</td>\n",
              "      <td>Metódico/a</td>\n",
              "      <td>Muñoz</td>\n",
              "      <td>Eizo</td>\n",
              "      <td>Ciencias e Ingeniería: Ingeniería Civil</td>\n",
              "      <td>munoz.eizo@pucp.edu.pe</td>\n",
              "      <td>959506666</td>\n",
              "      <td>[ArquitecturaBioclimática/AgriculturaUrbana, G...</td>\n",
              "    </tr>\n",
              "    <tr>\n",
              "      <th>1</th>\n",
              "      <td>3</td>\n",
              "      <td>No</td>\n",
              "      <td>Metodologías de Innovación Social / User Exper...</td>\n",
              "      <td>Práctico/a</td>\n",
              "      <td>Metódico/a</td>\n",
              "      <td>Creativo/a</td>\n",
              "      <td>Investigador/a</td>\n",
              "      <td>Evaluador/a</td>\n",
              "      <td>Navarro Fuentes</td>\n",
              "      <td>Roelmer Bilzaí</td>\n",
              "      <td>Ciencias e Ingeniería: Ingeniería Geológica</td>\n",
              "      <td>Roditas23@gmail.com</td>\n",
              "      <td>50230380644</td>\n",
              "      <td>[MetodologíasdeInnovaciónSocial/UserExperience...</td>\n",
              "    </tr>\n",
              "    <tr>\n",
              "      <th>2</th>\n",
              "      <td>2</td>\n",
              "      <td>No</td>\n",
              "      <td>Psicología Social / Economía Conductual, Diseñ...</td>\n",
              "      <td>Evaluador/a</td>\n",
              "      <td>Investigador/a</td>\n",
              "      <td>Coordinador/a</td>\n",
              "      <td>Creativo/a</td>\n",
              "      <td>Metódico/a</td>\n",
              "      <td>Aguirre ingunza</td>\n",
              "      <td>Nathalia</td>\n",
              "      <td>Arte y Diseño: Diseño Industrial</td>\n",
              "      <td>n.aguirre@pucp.edu.pe</td>\n",
              "      <td>953648855</td>\n",
              "      <td>[PsicologíaSocial/EconomíaConductual, Diseñode...</td>\n",
              "    </tr>\n",
              "    <tr>\n",
              "      <th>3</th>\n",
              "      <td>4</td>\n",
              "      <td>Sí, he participado 1 o 2 veces</td>\n",
              "      <td>Tecnologías Ambientales y Ecológicas, Arquitec...</td>\n",
              "      <td>Creativo/a</td>\n",
              "      <td>Coordinador/a</td>\n",
              "      <td>Impulsor/a</td>\n",
              "      <td>Coordinador/a</td>\n",
              "      <td>Práctico/a</td>\n",
              "      <td>Munoz</td>\n",
              "      <td>Eizo</td>\n",
              "      <td>Ciencias e Ingeniería: Ingeniería Civil</td>\n",
              "      <td>munoz.eizo@pucp.edu.pe</td>\n",
              "      <td>959506666</td>\n",
              "      <td>[TecnologíasAmbientalesyEcológicas, Arquitectu...</td>\n",
              "    </tr>\n",
              "    <tr>\n",
              "      <th>4</th>\n",
              "      <td>3</td>\n",
              "      <td>No</td>\n",
              "      <td>Gestión / Ingeniería Industrial /  Marketing &amp;...</td>\n",
              "      <td>Mediador/a</td>\n",
              "      <td>Evaluador/a</td>\n",
              "      <td>Investigador/a</td>\n",
              "      <td>Creativo/a</td>\n",
              "      <td>Metódico/a</td>\n",
              "      <td>Romero Romero</td>\n",
              "      <td>Niel</td>\n",
              "      <td>Gestión y Alta Dirección</td>\n",
              "      <td>niel.romero@pucp.edu.pe</td>\n",
              "      <td>993146653</td>\n",
              "      <td>[Gestión/IngenieríaIndustrial/Marketing&amp;Gestió...</td>\n",
              "    </tr>\n",
              "  </tbody>\n",
              "</table>\n",
              "</div>"
            ],
            "text/plain": [
              "   ExpTema  ...                                           CompList\n",
              "0        5  ...  [ArquitecturaBioclimática/AgriculturaUrbana, G...\n",
              "1        3  ...  [MetodologíasdeInnovaciónSocial/UserExperience...\n",
              "2        2  ...  [PsicologíaSocial/EconomíaConductual, Diseñode...\n",
              "3        4  ...  [TecnologíasAmbientalesyEcológicas, Arquitectu...\n",
              "4        3  ...  [Gestión/IngenieríaIndustrial/Marketing&Gestió...\n",
              "\n",
              "[5 rows x 14 columns]"
            ]
          },
          "metadata": {
            "tags": []
          },
          "execution_count": 29
        }
      ]
    },
    {
      "cell_type": "markdown",
      "metadata": {
        "id": "G5VSZFIG1lhS"
      },
      "source": [
        "#Grupos"
      ]
    },
    {
      "cell_type": "code",
      "metadata": {
        "id": "wzzgvDfV1mnq"
      },
      "source": [
        "#Cálcular número de integrantes en cada grupo"
      ],
      "execution_count": 30,
      "outputs": []
    },
    {
      "cell_type": "code",
      "metadata": {
        "id": "cAEj-Er-1rCE"
      },
      "source": [
        "n_personas = len(personas)"
      ],
      "execution_count": 31,
      "outputs": []
    },
    {
      "cell_type": "code",
      "metadata": {
        "id": "8Cwhg4rP1tQ2"
      },
      "source": [
        "min_personas = n_personas // N_GRUPOS\n",
        "n_grupos_uno_extra = n_personas - min_personas * N_GRUPOS"
      ],
      "execution_count": 32,
      "outputs": []
    },
    {
      "cell_type": "code",
      "metadata": {
        "id": "fyJPI5J724Gr",
        "outputId": "9b7137f0-c458-4bb5-b0b7-cf75fd2187c0",
        "colab": {
          "base_uri": "https://localhost:8080/"
        }
      },
      "source": [
        "print('Para',N_GRUPOS,'grupos se crearán',N_GRUPOS-n_grupos_uno_extra,'grupos de'\n",
        ",min_personas,'personas y',n_grupos_uno_extra,'de',min_personas+1,'personas')"
      ],
      "execution_count": 33,
      "outputs": [
        {
          "output_type": "stream",
          "text": [
            "Para 10 grupos se crearán 6 grupos de 8 personas y 4 de 9 personas\n"
          ],
          "name": "stdout"
        }
      ]
    },
    {
      "cell_type": "code",
      "metadata": {
        "id": "9Kxolx7338I5"
      },
      "source": [
        "comb_cero = [personas[x*min_personas:(x+1)*min_personas] for x in range(N_GRUPOS-n_grupos_uno_extra)] + \\\n",
        "[personas[(N_GRUPOS-n_grupos_uno_extra)*min_personas + x*(min_personas+1):(N_GRUPOS-n_grupos_uno_extra)*min_personas + (x+1)*(min_personas+1)] for x in range(n_grupos_uno_extra)]"
      ],
      "execution_count": 34,
      "outputs": []
    },
    {
      "cell_type": "code",
      "metadata": {
        "id": "ecM5xU_K8jtL",
        "outputId": "40297d38-8275-4006-ede9-de2c9905ff1f",
        "colab": {
          "base_uri": "https://localhost:8080/"
        }
      },
      "source": [
        "df.Apellido.values"
      ],
      "execution_count": 35,
      "outputs": [
        {
          "output_type": "execute_result",
          "data": {
            "text/plain": [
              "array(['Muñoz', 'Navarro Fuentes', 'Aguirre ingunza', 'Munoz',\n",
              "       'Romero Romero', 'Gamboa Rojas', 'Chumacero Ponte',\n",
              "       'Significación Mejia', 'Pacahuala cubas', 'Noborikawa Gushiken',\n",
              "       'Leivo San', 'Paima', 'Inga Moncada', 'Medina Herrera',\n",
              "       'Zuñiga Linares', 'Mardini Aranda', 'Hurtado Roca',\n",
              "       'Pachas Pachas', 'Verioska', 'Aguilar Clavijo', 'COTERA PUMACAYO',\n",
              "       'Goicochea Serrano', 'Farfan Lopez', 'Cueva Vásquez',\n",
              "       'Ojeda Cipriani', 'Bautista Agurto', 'Garcia Murguia',\n",
              "       'Pajuelo seminario', 'TAVARA DAVILA', 'Yalle De la Cruz',\n",
              "       'Rojas Sotelo', 'Gómez Aliaga', 'Luján Sandoval',\n",
              "       'Yanqui Magallan', 'Ttito Chavez', 'ROMERO YSLACHIN',\n",
              "       'Echevarria Concha', 'Hernani Valderrama', 'Dávila Tirado',\n",
              "       'Ortega Garcia', 'Alfaro Guerrero', 'Andia Alva',\n",
              "       'Saenz de la Cruz', 'Castillo Huashuayo', 'Contreras Paucca',\n",
              "       'Luján Sandoval', 'Valdivia Quiñones', 'CRUZ PADILLA',\n",
              "       'Tejeda Montero', 'Dionicio Arzapalo', 'Morón Salazar',\n",
              "       'Angulo Álvarez', 'Perez', 'Peinado Bravo', 'Tamura Tawata',\n",
              "       'Peinado Bravo', 'Muñoz Arista', 'Pacheco Chavarría',\n",
              "       'Robles Casas', 'Gonzales Cavel', 'Reynel Joyja', 'Núñez Rodas',\n",
              "       'Diaz Zevallos', 'Olano Valois', 'Espinoza Yman',\n",
              "       'Rios De La Cruz', 'Guerrero Cárdenas', 'Gutiérrez Sáenz',\n",
              "       'Reynoso Carpio', 'Gonzales', 'Terranova veliz', 'SIUSE',\n",
              "       'Diaz Nuñez', 'Hinostroza Quispe', 'Vega Mamani',\n",
              "       'Dongo Caballero', 'Yurivilca Canchán', 'Figueroa Triay',\n",
              "       'Gonzales Santibañez', 'Gonzales Santibañez', 'SORIA GUZMÁN',\n",
              "       'Urbe Mostajo', 'Huancayo Solari', 'Canal Gutierrez'], dtype=object)"
            ]
          },
          "metadata": {
            "tags": []
          },
          "execution_count": 35
        }
      ]
    },
    {
      "cell_type": "code",
      "metadata": {
        "id": "rhHGkqui8y7l",
        "outputId": "8c15e411-2ba0-4c9f-8bdd-551f85d1ba1b",
        "colab": {
          "base_uri": "https://localhost:8080/"
        }
      },
      "source": [
        "for i,grupo in enumerate(comb_cero):\n",
        "  print('Grupo',str(i),':')\n",
        "  for persona in grupo:\n",
        "    print(persona.apellido)"
      ],
      "execution_count": 36,
      "outputs": [
        {
          "output_type": "stream",
          "text": [
            "Grupo 0 :\n",
            "Muñoz\n",
            "Navarro Fuentes\n",
            "Aguirre ingunza\n",
            "Munoz\n",
            "Romero Romero\n",
            "Gamboa Rojas\n",
            "Chumacero Ponte\n",
            "Significación Mejia\n",
            "Grupo 1 :\n",
            "Pacahuala cubas\n",
            "Noborikawa Gushiken\n",
            "Leivo San\n",
            "Paima\n",
            "Inga Moncada\n",
            "Medina Herrera\n",
            "Zuñiga Linares\n",
            "Mardini Aranda\n",
            "Grupo 2 :\n",
            "Hurtado Roca\n",
            "Pachas Pachas\n",
            "Verioska\n",
            "Aguilar Clavijo\n",
            "COTERA PUMACAYO\n",
            "Goicochea Serrano\n",
            "Farfan Lopez\n",
            "Cueva Vásquez\n",
            "Grupo 3 :\n",
            "Ojeda Cipriani\n",
            "Bautista Agurto\n",
            "Garcia Murguia\n",
            "Pajuelo seminario\n",
            "TAVARA DAVILA\n",
            "Yalle De la Cruz\n",
            "Rojas Sotelo\n",
            "Gómez Aliaga\n",
            "Grupo 4 :\n",
            "Luján Sandoval\n",
            "Yanqui Magallan\n",
            "Ttito Chavez\n",
            "ROMERO YSLACHIN\n",
            "Echevarria Concha\n",
            "Hernani Valderrama\n",
            "Dávila Tirado\n",
            "Ortega Garcia\n",
            "Grupo 5 :\n",
            "Alfaro Guerrero\n",
            "Andia Alva\n",
            "Saenz de la Cruz\n",
            "Castillo Huashuayo\n",
            "Contreras Paucca\n",
            "Luján Sandoval\n",
            "Valdivia Quiñones\n",
            "CRUZ PADILLA\n",
            "Grupo 6 :\n",
            "Tejeda Montero\n",
            "Dionicio Arzapalo\n",
            "Morón Salazar\n",
            "Angulo Álvarez\n",
            "Perez\n",
            "Peinado Bravo\n",
            "Tamura Tawata\n",
            "Peinado Bravo\n",
            "Muñoz Arista\n",
            "Grupo 7 :\n",
            "Pacheco Chavarría\n",
            "Robles Casas\n",
            "Gonzales Cavel\n",
            "Reynel Joyja\n",
            "Núñez Rodas\n",
            "Diaz Zevallos\n",
            "Olano Valois\n",
            "Espinoza Yman\n",
            "Rios De La Cruz\n",
            "Grupo 8 :\n",
            "Guerrero Cárdenas\n",
            "Gutiérrez Sáenz\n",
            "Reynoso Carpio\n",
            "Gonzales\n",
            "Terranova veliz\n",
            "SIUSE\n",
            "Diaz Nuñez\n",
            "Hinostroza Quispe\n",
            "Vega Mamani\n",
            "Grupo 9 :\n",
            "Dongo Caballero\n",
            "Yurivilca Canchán\n",
            "Figueroa Triay\n",
            "Gonzales Santibañez\n",
            "Gonzales Santibañez\n",
            "SORIA GUZMÁN\n",
            "Urbe Mostajo\n",
            "Huancayo Solari\n",
            "Canal Gutierrez\n"
          ],
          "name": "stdout"
        }
      ]
    },
    {
      "cell_type": "markdown",
      "metadata": {
        "id": "GZEy1BUJQDC9"
      },
      "source": [
        "#Buscando grupos heterogéneos"
      ]
    },
    {
      "cell_type": "code",
      "metadata": {
        "id": "Q1wwtKqZRMaF"
      },
      "source": [
        "import random\n",
        "def random_swap(comb):\n",
        "  listas = random.sample(comb,2)\n",
        "  l1 = listas[0]\n",
        "  l2 = listas[1]\n",
        "  i1 = random.randint(0,len(l1)-1)\n",
        "  i2 = random.randint(0,len(l2)-1)\n",
        "  aux = l1[i1]\n",
        "  l1[i1] = l2[i2]\n",
        "  l2[i2] = aux\n",
        "  return comb"
      ],
      "execution_count": 37,
      "outputs": []
    },
    {
      "cell_type": "code",
      "metadata": {
        "id": "Dp5Dv6I_R56B"
      },
      "source": [
        "def calcular_costo_competencia(comb):\n",
        "  suma = 0\n",
        "  for grupo in comb:\n",
        "    com_count = np.array([c for p in grupo for c in p.competencia])\n",
        "    suma += sum(np.unique(com_count, return_counts=True)[1] - 1)\n",
        "  return suma"
      ],
      "execution_count": 38,
      "outputs": []
    },
    {
      "cell_type": "code",
      "metadata": {
        "id": "cAz-JWd9QlOl"
      },
      "source": [
        "import copy\n",
        "def calcular_combinacion_candidata():\n",
        "  comb = copy.deepcopy(comb_cero)\n",
        "  min_costo = 10000\n",
        "  best_comb = None\n",
        "  cont = 0 #Sirve para salir si no se supera el umbral tras N_UMBRAL iteraciones\n",
        "  for _ in range(N_PASOS):\n",
        "    comb = random_swap(comb)\n",
        "    costo = calcular_costo_competencia(comb)\n",
        "    if (costo < min_costo):\n",
        "      best_comb = copy.deepcopy(comb)\n",
        "      min_costo = costo\n",
        "      cont = 0\n",
        "    cont += 1\n",
        "    if (cont > N_UMBRAL): break\n",
        "  \n",
        "  return best_comb"
      ],
      "execution_count": 39,
      "outputs": []
    },
    {
      "cell_type": "code",
      "metadata": {
        "id": "GlzXV3PFXFFH"
      },
      "source": [
        "best_comb = calcular_combinacion_candidata()"
      ],
      "execution_count": 40,
      "outputs": []
    },
    {
      "cell_type": "code",
      "metadata": {
        "id": "_CEmdjNuZrp2",
        "outputId": "c1979570-456d-4917-fbf7-2237a644d477",
        "colab": {
          "base_uri": "https://localhost:8080/"
        }
      },
      "source": [
        "calcular_costo_competencia(best_comb)"
      ],
      "execution_count": 41,
      "outputs": [
        {
          "output_type": "execute_result",
          "data": {
            "text/plain": [
              "151"
            ]
          },
          "metadata": {
            "tags": []
          },
          "execution_count": 41
        }
      ]
    },
    {
      "cell_type": "code",
      "metadata": {
        "id": "D37-L7QfW-1q",
        "outputId": "a6edd9e9-c451-4b70-c411-3cfe92231727",
        "colab": {
          "base_uri": "https://localhost:8080/"
        }
      },
      "source": [
        "for i,grupo in enumerate(best_comb):\n",
        "  print('Grupo',str(i),':')\n",
        "  for persona in grupo:\n",
        "    print(persona.apellido,persona.competencia)"
      ],
      "execution_count": 42,
      "outputs": [
        {
          "output_type": "stream",
          "text": [
            "Grupo 0 :\n",
            "Yurivilca Canchán ['TecnologíaeIngeniería(Software-Informática', 'Electrónica', 'Mecatrónica', 'etc.)']\n",
            "Contreras Paucca ['TecnologíaeIngeniería(Software-Informática', 'Electrónica', 'Mecatrónica', 'etc.)', 'DiseñodePrototipos(Render', 'Figma', 'MarvelApp', 'Ai', 'Psetc.)/CreacióndePáginasWeb']\n",
            "Pachas Pachas ['TecnologíasAmbientalesyEcológicas', 'Gestiónderecursosnaturalesdentrodelhogar', 'MetodologíasdeInnovaciónSocial/UserExperience/Diseñocentradoenelusuario']\n",
            "Aguilar Clavijo ['TecnologíasAmbientalesyEcológicas', 'Gestión/IngenieríaIndustrial/Marketing&GestiónComercial']\n",
            "Tamura Tawata ['DiseñodePrototipos(Render', 'modelado3DSketchup', 'Archicad', 'Figma', 'Ai', 'Psetc.)', 'Diseñodeproductos/diseñodeservicios', 'Metodologíasdeinnovaciónsocial/UserExperience/Diseñocentradoenusuario']\n",
            "Echevarria Concha ['TecnologíasAmbientalesyEcológicas', 'TecnologíaeIngeniería(Software-Informática', 'Electrónica', 'Mecatrónica', 'etc.)', 'Diseñodeproductos/Diseñodeservicios', 'MetodologíasdeInnovaciónSocial/UserExperience/Diseñocentradoenelusuario']\n",
            "Reynel Joyja ['GéneroyMasculinidades', 'ComunicaciónEfectiva/RelacionesPúblicas', 'Metodologíasdeinnovaciónsocial/UserExperience/Diseñocentradoenusuario']\n",
            "Mardini Aranda ['TecnologíasAmbientalesyEcológicas', 'ArquitecturaBioclimática/AgriculturaUrbana']\n",
            "Grupo 1 :\n",
            "Vega Mamani ['SostenibilidadAmbientaleInnovación', 'Género', 'patronesdegéneroyrelacionesfamiliares', 'Diseñodeproductos/Diseñodeservicios']\n",
            "Aguirre ingunza ['PsicologíaSocial/EconomíaConductual', 'DiseñodePrototipos(Render', 'Figma', 'MarvelApp', 'Ai', 'Psetc.)/CreacióndePáginasWeb', 'Diseñodeproductos/Diseñodeservicios', 'Gestiónderecursosnaturalesdentrodelhogar']\n",
            "TAVARA DAVILA ['TecnologíaeIngeniería(Software-Informática', 'Electrónica', 'Mecatrónica', 'etc.)', 'DiseñodePrototipos(Render', 'Figma', 'MarvelApp', 'Ai', 'Psetc.)/CreacióndePáginasWeb']\n",
            "Peinado Bravo ['DiseñodePrototipos(Render', 'modelado3DSketchup', 'Archicad', 'Figma', 'Ai', 'Psetc.)', 'Diseñodeproductos/diseñodeservicios', 'Metodologíasdeinnovaciónsocial/UserExperience/Diseñocentradoenusuario']\n",
            "Noborikawa Gushiken ['ArquitecturaBioclimática/AgriculturaUrbana', 'DiseñodePrototipos(Render', 'Figma', 'MarvelApp', 'Ai', 'Psetc.)/CreacióndePáginasWeb', 'Diseñodeproductos/Diseñodeservicios', 'MetodologíasdeInnovaciónSocial/UserExperience/Diseñocentradoenelusuario']\n",
            "Navarro Fuentes ['MetodologíasdeInnovaciónSocial/UserExperience/Diseñocentradoenelusuario']\n",
            "Chumacero Ponte ['ArquitecturaBioclimática/AgriculturaUrbana', 'DiseñodePrototipos(Render', 'Figma', 'MarvelApp', 'Ai', 'Psetc.)/CreacióndePáginasWeb', 'Diseñodeproductos/Diseñodeservicios', 'Gestiónderecursosnaturalesdentrodelhogar', 'MetodologíasdeInnovaciónSocial/UserExperience/Diseñocentradoenelusuario']\n",
            "Gonzales ['Género', 'patronesdegéneroyrelacionesfamiliares', 'PsicologíaSocial/EconomíaConductual', 'Psicologíaeducacional', 'trabajoconfamilias', 'saludmental']\n",
            "Grupo 2 :\n",
            "Rojas Sotelo ['TecnologíasAmbientalesyEcológicas', 'Gestión/IngenieríaIndustrial/Marketing&GestiónComercial', 'Diseñodeproductos/Diseñodeservicios']\n",
            "Perez ['GéneroyMasculinidades', 'Diseñodeproductos/diseñodeservicios', 'Metodologíasdeinnovaciónsocial/UserExperience/Diseñocentradoenusuario', 'Arte']\n",
            "Olano Valois ['GéneroyMasculinidades', 'ComunicaciónEfectiva/RelacionesPúblicas']\n",
            "Leivo San ['TecnologíasAmbientalesyEcológicas', 'ArquitecturaBioclimática/AgriculturaUrbana', 'PsicologíaSocial/EconomíaConductual', 'Diseñodeproductos/Diseñodeservicios', 'Gestiónderecursosnaturalesdentrodelhogar', 'MetodologíasdeInnovaciónSocial/UserExperience/Diseñocentradoenelusuario']\n",
            "Saenz de la Cruz ['TecnologíaeIngeniería(Software-Informática', 'Electrónica', 'Mecatrónica', 'etc.)', 'DiseñodePrototipos(Render', 'Figma', 'MarvelApp', 'Ai', 'Psetc.)/CreacióndePáginasWeb']\n",
            "Valdivia Quiñones ['Gestión/IngenieríaIndustrial/Marketing&GestiónComercial', 'MetodologíasdeInnovaciónSocial/UserExperience/Diseñocentradoenelusuario', 'Gestióndeproyectosyprocesos']\n",
            "Luján Sandoval ['TecnologíaeIngeniería(Software-Informática', 'Electrónica', 'Mecatrónica', 'etc.)']\n",
            "Tejeda Montero ['TecnologíasAmbientalesyEcológicas', 'TecnologíaeIngeniería(Software-Informática', 'Electrónica', 'Mecatrónica', 'etc.)', 'MetodologíasdeInnovaciónSocial/UserExperience/Diseñocentradoenelusuario']\n",
            "Grupo 3 :\n",
            "Reynoso Carpio ['SostenibilidadAmbientaleInnovación', 'Género', 'patronesdegéneroyrelacionesfamiliares', 'PsicologíaSocial/EconomíaConductual', 'Sociología/Antropología', 'DiseñodePrototipos(Render', 'modelado3D', 'Sketchup', 'Archicad', 'Figma', 'Ai', 'Psetc.)', 'Diseñodeproductos/Diseñodeservicios']\n",
            "COTERA PUMACAYO ['TecnologíasAmbientalesyEcológicas', 'Gestión/IngenieríaIndustrial/Marketing&GestiónComercial', 'Diseñodeproductos/Diseñodeservicios', 'Gestiónderecursosnaturalesdentrodelhogar', 'MetodologíasdeInnovaciónSocial/UserExperience/Diseñocentradoenelusuario']\n",
            "Andia Alva ['TecnologíaeIngeniería(Software-Informática', 'Electrónica', 'Mecatrónica', 'etc.)']\n",
            "Pajuelo seminario ['TecnologíasAmbientalesyEcológicas', 'PsicologíaSocial/EconomíaConductual']\n",
            "Gonzales Santibañez ['Género', 'patronesdegéneroyrelacionesfamiliares', 'Psicologíaeducacional', 'diseñoinstruccional', 'desarrollohumano', 'teoríasdeaprendizaje', 'investigación']\n",
            "Peinado Bravo ['DiseñodePrototipos(Render', 'modelado3DSketchup', 'Archicad', 'Figma', 'Ai', 'Psetc.)', 'Diseñodeproductos/diseñodeservicios', 'Metodologíasdeinnovaciónsocial/UserExperience/Diseñocentradoenusuario']\n",
            "ROMERO YSLACHIN ['Gestión/IngenieríaIndustrial/Marketing&GestiónComercial']\n",
            "Hinostroza Quispe ['DiseñodePrototipos(Render', 'modelado3D', 'Sketchup', 'Archicad', 'Figma', 'Ai', 'Psetc.)', 'Diseñodeproductos/Diseñodeservicios', 'Metodologíasdeinnovaciónsocial/UserExperience/Diseñocentradoenusuario']\n",
            "Grupo 4 :\n",
            "Luján Sandoval ['TecnologíaeIngeniería(Software-Informática', 'Electrónica', 'Mecatrónica', 'etc.)']\n",
            "Gamboa Rojas ['TecnologíasAmbientalesyEcológicas', 'Gestión/IngenieríaIndustrial/Marketing&GestiónComercial', 'DiseñodePrototipos(Render', 'Figma', 'MarvelApp', 'Ai', 'Psetc.)/CreacióndePáginasWeb', 'MetodologíasdeInnovaciónSocial/UserExperience/Diseñocentradoenelusuario']\n",
            "Robles Casas ['Metodologíasdeinnovaciónsocial/UserExperience/Diseñocentradoenusuario', 'Gestiónsocialyempresarial']\n",
            "Figueroa Triay ['TecnologíasEmergentes/TecnologíaSocial', 'SostenibilidadAmbientaleInnovación', 'Género', 'patronesdegéneroyrelacionesfamiliares', 'PsicologíaSocial/EconomíaConductual', 'Sociología/Antropología']\n",
            "Gómez Aliaga ['Gestión/IngenieríaIndustrial/Marketing&GestiónComercial', 'MetodologíasdeInnovaciónSocial/UserExperience/Diseñocentradoenelusuario']\n",
            "Yalle De la Cruz ['Gestión/IngenieríaIndustrial/Marketing&GestiónComercial']\n",
            "Diaz Nuñez ['TecnologíasEmergentes/TecnologíaSocial', 'TecnologíaeIngeniería(Software-Informática', 'Electrónica', 'Mecatrónica', 'etc.)', 'DiseñodePrototipos(Render', 'modelado3D', 'Sketchup', 'Archicad', 'Figma', 'Ai', 'Psetc.)', 'Diseñodeproductos/Diseñodeservicios', 'Metodologíasdeinnovaciónsocial/UserExperience/Diseñocentradoenusuario']\n",
            "CRUZ PADILLA ['Gestión/IngenieríaIndustrial/Marketing&GestiónComercial']\n",
            "Grupo 5 :\n",
            "Pacahuala cubas ['Gestión/IngenieríaIndustrial/Marketing&GestiónComercial', 'Diseñodeproductos/Diseñodeservicios', 'MetodologíasdeInnovaciónSocial/UserExperience/Diseñocentradoenelusuario']\n",
            "Castillo Huashuayo ['Gestión/IngenieríaIndustrial/Marketing&GestiónComercial', 'TecnologíaeIngeniería(Software-Informática', 'Electrónica', 'Mecatrónica', 'etc.)', 'Gestiónderecursosnaturalesdentrodelhogar']\n",
            "Guerrero Cárdenas ['GéneroyMasculinidades', 'ComunicaciónEfectiva/RelacionesPúblicas']\n",
            "Ttito Chavez ['TecnologíasAmbientalesyEcológicas', 'TecnologíaeIngeniería(Software-Informática', 'Electrónica', 'Mecatrónica', 'etc.)', 'Diseñodeproductos/Diseñodeservicios']\n",
            "SORIA GUZMÁN ['Género', 'patronesdegéneroyrelacionesfamiliares', 'PsicologíaSocial/EconomíaConductual', 'Metodologíasdeinnovaciónsocial/UserExperience/Diseñocentradoenusuario']\n",
            "Canal Gutierrez ['PsicologíaSocial/EconomíaConductual']\n",
            "Angulo Álvarez ['GéneroyMasculinidades', 'PsicologíaSocial/EconomíaConductual/CienciasdelaSalud', 'TecnologíaeIngeniería(Software-Informática', 'Electrónica', 'Mecatrónica', 'etc.)', 'Metodologíasdeinnovaciónsocial/UserExperience/Diseñocentradoenusuario']\n",
            "Muñoz ['ArquitecturaBioclimática/AgriculturaUrbana', 'Gestión/IngenieríaIndustrial/Marketing&GestiónComercial']\n",
            "Grupo 6 :\n",
            "Espinoza Yman ['TecnologíasEmergentes/TecnologíaSocial', 'TecnologíaeIngeniería(Software-Informática', 'Electrónica', 'Mecatrónica', 'etc.)', 'DiseñodePrototipos(Render', 'modelado3DSketchup', 'Archicad', 'Figma', 'Ai', 'Psetc.)']\n",
            "Gonzales Santibañez ['Género', 'patronesdegéneroyrelacionesfamiliares', 'PsicologíaSocial/EconomíaConductual', 'PsicologíaEducacional', 'aprendizaje', 'desarrollohumanoydiseñoinstruccional.']\n",
            "Romero Romero ['Gestión/IngenieríaIndustrial/Marketing&GestiónComercial']\n",
            "Hernani Valderrama ['ArquitecturaBioclimática/AgriculturaUrbana', 'DiseñodePrototipos(Render', 'Figma', 'MarvelApp', 'Ai', 'Psetc.)/CreacióndePáginasWeb']\n",
            "Yanqui Magallan ['Gestión/IngenieríaIndustrial/Marketing&GestiónComercial', 'Diseñodeproductos/Diseñodeservicios']\n",
            "Pacheco Chavarría ['Metodologíasdeinnovaciónsocial/UserExperience/Diseñocentradoenusuario']\n",
            "Verioska ['TecnologíasAmbientalesyEcológicas', 'ArquitecturaBioclimática/AgriculturaUrbana', 'Gestiónderecursosnaturalesdentrodelhogar', 'Desarrollosostenible']\n",
            "Hurtado Roca ['Gestión/IngenieríaIndustrial/Marketing&GestiónComercial']\n",
            "Huancayo Solari ['PsicologíaSocial/EconomíaConductual']\n",
            "Grupo 7 :\n",
            "Gonzales Cavel ['Sociología/Antropología', 'ComunicaciónEfectiva/RelacionesPúblicas']\n",
            "Zuñiga Linares ['TecnologíasAmbientalesyEcológicas', 'TecnologíaeIngeniería(Software-Informática', 'Electrónica', 'Mecatrónica', 'etc.)', 'Gestiónderecursosnaturalesdentrodelhogar']\n",
            "Munoz ['TecnologíasAmbientalesyEcológicas', 'ArquitecturaBioclimática/AgriculturaUrbana']\n",
            "Farfan Lopez ['TecnologíasAmbientalesyEcológicas', 'TecnologíaeIngeniería(Software-Informática', 'Electrónica', 'Mecatrónica', 'etc.)', 'Gestiónderecursosnaturalesdentrodelhogar']\n",
            "Urbe Mostajo ['TecnologíasEmergentes/TecnologíaSocial', 'SostenibilidadAmbientaleInnovación', 'Género', 'patronesdegéneroyrelacionesfamiliares', 'Metodologíasdeinnovaciónsocial/UserExperience/Diseñocentradoenusuario']\n",
            "Muñoz Arista ['GéneroyMasculinidades', 'Sociología/Antropología', 'Diseñodeproductos/diseñodeservicios', 'Metodologíasdeinnovaciónsocial/UserExperience/Diseñocentradoenusuario', 'DerechosHumanosyMedioAmbiente']\n",
            "Dionicio Arzapalo ['PsicologíaSocial/EconomíaConductual', 'Gestiónderecursosnaturalesdentrodelhogar']\n",
            "Paima ['Gestiónderecursosnaturalesdentrodelhogar']\n",
            "Inga Moncada ['Gestión/IngenieríaIndustrial/Marketing&GestiónComercial', 'DiseñodePrototipos(Render', 'Figma', 'MarvelApp', 'Ai', 'Psetc.)/CreacióndePáginasWeb', 'MetodologíasdeInnovaciónSocial/UserExperience/Diseñocentradoenelusuario']\n",
            "Grupo 8 :\n",
            "Significación Mejia ['Gestión/IngenieríaIndustrial/Marketing&GestiónComercial']\n",
            "Dávila Tirado ['TecnologíasAmbientalesyEcológicas', 'TecnologíaeIngeniería(Software-Informática', 'Electrónica', 'Mecatrónica', 'etc.)', 'MetodologíasdeInnovaciónSocial/UserExperience/Diseñocentradoenelusuario']\n",
            "Goicochea Serrano ['TecnologíasAmbientalesyEcológicas', 'Gestión/IngenieríaIndustrial/Marketing&GestiónComercial', 'DiseñodePrototipos(Render', 'Figma', 'MarvelApp', 'Ai', 'Psetc.)/CreacióndePáginasWeb', 'MetodologíasdeInnovaciónSocial/UserExperience/Diseñocentradoenelusuario']\n",
            "Cueva Vásquez ['TecnologíasAmbientalesyEcológicas', 'ArquitecturaBioclimática/AgriculturaUrbana', 'Gestión/IngenieríaIndustrial/Marketing&GestiónComercial', 'Diseñodeproductos/Diseñodeservicios']\n",
            "Ojeda Cipriani ['Gestión/IngenieríaIndustrial/Marketing&GestiónComercial']\n",
            "Dongo Caballero ['SostenibilidadAmbientaleInnovación', 'Género', 'patronesdegéneroyrelacionesfamiliares', 'Diseñodeproductos/Diseñodeservicios', 'Metodologíasdeinnovaciónsocial/UserExperience/Diseñocentradoenusuario']\n",
            "Gutiérrez Sáenz ['SostenibilidadAmbientaleInnovación', 'Metodologíasdeinnovaciónsocial/UserExperience/Diseñocentradoenusuario']\n",
            "Diaz Zevallos ['TecnologíasEmergentes/TecnologíaSocial', 'GéneroyMasculinidades', 'PsicologíaSocial/EconomíaConductual/CienciasdelaSalud', 'ComunicaciónEfectiva/RelacionesPúblicas', 'Metodologíasdeinnovaciónsocial/UserExperience/Diseñocentradoenusuario']\n",
            "Rios De La Cruz ['GéneroyMasculinidades', 'Diseñodeproductos/diseñodeservicios', 'Metodologíasdeinnovaciónsocial/UserExperience/Diseñocentradoenusuario']\n",
            "Grupo 9 :\n",
            "Alfaro Guerrero ['Gestiónderecursosnaturalesdentrodelhogar']\n",
            "Medina Herrera ['Gestión/IngenieríaIndustrial/Marketing&GestiónComercial']\n",
            "Ortega Garcia ['TecnologíasAmbientalesyEcológicas', 'Gestión/IngenieríaIndustrial/Marketing&GestiónComercial', 'DiseñodePrototipos(Render', 'Figma', 'MarvelApp', 'Ai', 'Psetc.)/CreacióndePáginasWeb']\n",
            "Terranova veliz ['TecnologíasEmergentes/TecnologíaSocial', 'DiseñodePrototipos(Render', 'modelado3D', 'Sketchup', 'Archicad', 'Figma', 'Ai', 'Psetc.)', 'Diseñodeproductos/Diseñodeservicios', 'Metodologíasdeinnovaciónsocial/UserExperience/Diseñocentradoenusuario']\n",
            "Garcia Murguia ['TecnologíasAmbientalesyEcológicas', 'Gestión/IngenieríaIndustrial/Marketing&GestiónComercial', 'Diseñodeproductos/Diseñodeservicios']\n",
            "Núñez Rodas ['GéneroyMasculinidades']\n",
            "Morón Salazar ['TecnologíaeIngeniería(Software-Informática', 'Electrónica', 'Mecatrónica', 'etc.)', 'DiseñodePrototipos(Render', 'modelado3DSketchup', 'Archicad', 'Figma', 'Ai', 'Psetc.)', 'ComunicaciónEfectiva/RelacionesPúblicas']\n",
            "Bautista Agurto ['Gestión/IngenieríaIndustrial/Marketing&GestiónComercial', 'MetodologíasdeInnovaciónSocial/UserExperience/Diseñocentradoenelusuario']\n",
            "SIUSE ['TecnologíasEmergentes/TecnologíaSocial', 'SostenibilidadAmbientaleInnovación', 'Metodologíasdeinnovaciónsocial/UserExperience/Diseñocentradoenusuario']\n"
          ],
          "name": "stdout"
        }
      ]
    },
    {
      "cell_type": "code",
      "metadata": {
        "id": "EaPfO37KZza8"
      },
      "source": [
        "#Consiguiendo conjunto de N_CANDIDATOS de combinaciones\n",
        "comb_candidatas = []\n",
        "while (len(comb_candidatas)<N_CANDIDATOS):\n",
        "  cand = calcular_combinacion_candidata()\n",
        "  comb_candidatas.append(cand)"
      ],
      "execution_count": 43,
      "outputs": []
    },
    {
      "cell_type": "markdown",
      "metadata": {
        "id": "mP_oclv7amPk"
      },
      "source": [
        "#Eligiendo combinación más balanceada"
      ]
    },
    {
      "cell_type": "code",
      "metadata": {
        "id": "Umct8_FkapHy"
      },
      "source": [
        "#calcular balance de la combinación\n",
        "import itertools\n",
        "def get_distancia_baricentros(comb):\n",
        "  baricentros = []\n",
        "  for i,grupo in enumerate(comb):\n",
        "    suma_pesos = 0\n",
        "    for persona in grupo:\n",
        "      m1 = np.multiply(persona.pesos, persona.exp_tema)\n",
        "      m2 = np.multiply(m1, persona.exp_hack)\n",
        "      suma_pesos +=  m2\n",
        "    baricentros.append(suma_pesos/len(grupo))\n",
        "\n",
        "  max_distance = 0\n",
        "  for a,b in itertools.combinations(baricentros, 2):\n",
        "    distance = np.linalg.norm(a-b)\n",
        "    if ( distance >  max_distance): max_distance = distance\n",
        "\n",
        "  return max_distance"
      ],
      "execution_count": 44,
      "outputs": []
    },
    {
      "cell_type": "code",
      "metadata": {
        "id": "VaRdLKbijuPc",
        "outputId": "8cdde06f-4d85-4139-a2a9-47722a02632d",
        "colab": {
          "base_uri": "https://localhost:8080/"
        }
      },
      "source": [
        "min_distance = 99999\n",
        "\n",
        "for comb in comb_candidatas:\n",
        "  distance = get_distancia_baricentros(comb)\n",
        "  if (distance < min_distance):\n",
        "    best_comb = comb\n",
        "    min_distance = distance\n",
        "\n",
        "print(min_distance)\n",
        "print(calcular_costo_competencia(best_comb))"
      ],
      "execution_count": 45,
      "outputs": [
        {
          "output_type": "stream",
          "text": [
            "54.87941326216963\n",
            "143\n"
          ],
          "name": "stdout"
        }
      ]
    },
    {
      "cell_type": "code",
      "metadata": {
        "id": "nijItb3TjvbP",
        "outputId": "4da5ec94-15d0-47e6-c0fe-a27cd8794344",
        "colab": {
          "base_uri": "https://localhost:8080/"
        }
      },
      "source": [
        "for i,grupo in enumerate(best_comb):\n",
        "  print('Grupo',str(i),':')\n",
        "  for persona in grupo:\n",
        "    print(persona.apellido,persona.competencia)"
      ],
      "execution_count": 46,
      "outputs": [
        {
          "output_type": "stream",
          "text": [
            "Grupo 0 :\n",
            "Terranova veliz ['TecnologíasEmergentes/TecnologíaSocial', 'DiseñodePrototipos(Render', 'modelado3D', 'Sketchup', 'Archicad', 'Figma', 'Ai', 'Psetc.)', 'Diseñodeproductos/Diseñodeservicios', 'Metodologíasdeinnovaciónsocial/UserExperience/Diseñocentradoenusuario']\n",
            "Ojeda Cipriani ['Gestión/IngenieríaIndustrial/Marketing&GestiónComercial']\n",
            "Ttito Chavez ['TecnologíasAmbientalesyEcológicas', 'TecnologíaeIngeniería(Software-Informática', 'Electrónica', 'Mecatrónica', 'etc.)', 'Diseñodeproductos/Diseñodeservicios']\n",
            "Yurivilca Canchán ['TecnologíaeIngeniería(Software-Informática', 'Electrónica', 'Mecatrónica', 'etc.)']\n",
            "Mardini Aranda ['TecnologíasAmbientalesyEcológicas', 'ArquitecturaBioclimática/AgriculturaUrbana']\n",
            "Rojas Sotelo ['TecnologíasAmbientalesyEcológicas', 'Gestión/IngenieríaIndustrial/Marketing&GestiónComercial', 'Diseñodeproductos/Diseñodeservicios']\n",
            "Urbe Mostajo ['TecnologíasEmergentes/TecnologíaSocial', 'SostenibilidadAmbientaleInnovación', 'Género', 'patronesdegéneroyrelacionesfamiliares', 'Metodologíasdeinnovaciónsocial/UserExperience/Diseñocentradoenusuario']\n",
            "Chumacero Ponte ['ArquitecturaBioclimática/AgriculturaUrbana', 'DiseñodePrototipos(Render', 'Figma', 'MarvelApp', 'Ai', 'Psetc.)/CreacióndePáginasWeb', 'Diseñodeproductos/Diseñodeservicios', 'Gestiónderecursosnaturalesdentrodelhogar', 'MetodologíasdeInnovaciónSocial/UserExperience/Diseñocentradoenelusuario']\n",
            "Grupo 1 :\n",
            "Cueva Vásquez ['TecnologíasAmbientalesyEcológicas', 'ArquitecturaBioclimática/AgriculturaUrbana', 'Gestión/IngenieríaIndustrial/Marketing&GestiónComercial', 'Diseñodeproductos/Diseñodeservicios']\n",
            "Gonzales Santibañez ['Género', 'patronesdegéneroyrelacionesfamiliares', 'PsicologíaSocial/EconomíaConductual', 'PsicologíaEducacional', 'aprendizaje', 'desarrollohumanoydiseñoinstruccional.']\n",
            "Reynel Joyja ['GéneroyMasculinidades', 'ComunicaciónEfectiva/RelacionesPúblicas', 'Metodologíasdeinnovaciónsocial/UserExperience/Diseñocentradoenusuario']\n",
            "SIUSE ['TecnologíasEmergentes/TecnologíaSocial', 'SostenibilidadAmbientaleInnovación', 'Metodologíasdeinnovaciónsocial/UserExperience/Diseñocentradoenusuario']\n",
            "Dongo Caballero ['SostenibilidadAmbientaleInnovación', 'Género', 'patronesdegéneroyrelacionesfamiliares', 'Diseñodeproductos/Diseñodeservicios', 'Metodologíasdeinnovaciónsocial/UserExperience/Diseñocentradoenusuario']\n",
            "Núñez Rodas ['GéneroyMasculinidades']\n",
            "Peinado Bravo ['DiseñodePrototipos(Render', 'modelado3DSketchup', 'Archicad', 'Figma', 'Ai', 'Psetc.)', 'Diseñodeproductos/diseñodeservicios', 'Metodologíasdeinnovaciónsocial/UserExperience/Diseñocentradoenusuario']\n",
            "Pachas Pachas ['TecnologíasAmbientalesyEcológicas', 'Gestiónderecursosnaturalesdentrodelhogar', 'MetodologíasdeInnovaciónSocial/UserExperience/Diseñocentradoenelusuario']\n",
            "Grupo 2 :\n",
            "Aguilar Clavijo ['TecnologíasAmbientalesyEcológicas', 'Gestión/IngenieríaIndustrial/Marketing&GestiónComercial']\n",
            "Alfaro Guerrero ['Gestiónderecursosnaturalesdentrodelhogar']\n",
            "Reynoso Carpio ['SostenibilidadAmbientaleInnovación', 'Género', 'patronesdegéneroyrelacionesfamiliares', 'PsicologíaSocial/EconomíaConductual', 'Sociología/Antropología', 'DiseñodePrototipos(Render', 'modelado3D', 'Sketchup', 'Archicad', 'Figma', 'Ai', 'Psetc.)', 'Diseñodeproductos/Diseñodeservicios']\n",
            "Angulo Álvarez ['GéneroyMasculinidades', 'PsicologíaSocial/EconomíaConductual/CienciasdelaSalud', 'TecnologíaeIngeniería(Software-Informática', 'Electrónica', 'Mecatrónica', 'etc.)', 'Metodologíasdeinnovaciónsocial/UserExperience/Diseñocentradoenusuario']\n",
            "Gómez Aliaga ['Gestión/IngenieríaIndustrial/Marketing&GestiónComercial', 'MetodologíasdeInnovaciónSocial/UserExperience/Diseñocentradoenelusuario']\n",
            "Pacahuala cubas ['Gestión/IngenieríaIndustrial/Marketing&GestiónComercial', 'Diseñodeproductos/Diseñodeservicios', 'MetodologíasdeInnovaciónSocial/UserExperience/Diseñocentradoenelusuario']\n",
            "Huancayo Solari ['PsicologíaSocial/EconomíaConductual']\n",
            "Gonzales Santibañez ['Género', 'patronesdegéneroyrelacionesfamiliares', 'Psicologíaeducacional', 'diseñoinstruccional', 'desarrollohumano', 'teoríasdeaprendizaje', 'investigación']\n",
            "Grupo 3 :\n",
            "Pacheco Chavarría ['Metodologíasdeinnovaciónsocial/UserExperience/Diseñocentradoenusuario']\n",
            "Robles Casas ['Metodologíasdeinnovaciónsocial/UserExperience/Diseñocentradoenusuario', 'Gestiónsocialyempresarial']\n",
            "Gamboa Rojas ['TecnologíasAmbientalesyEcológicas', 'Gestión/IngenieríaIndustrial/Marketing&GestiónComercial', 'DiseñodePrototipos(Render', 'Figma', 'MarvelApp', 'Ai', 'Psetc.)/CreacióndePáginasWeb', 'MetodologíasdeInnovaciónSocial/UserExperience/Diseñocentradoenelusuario']\n",
            "Rios De La Cruz ['GéneroyMasculinidades', 'Diseñodeproductos/diseñodeservicios', 'Metodologíasdeinnovaciónsocial/UserExperience/Diseñocentradoenusuario']\n",
            "Goicochea Serrano ['TecnologíasAmbientalesyEcológicas', 'Gestión/IngenieríaIndustrial/Marketing&GestiónComercial', 'DiseñodePrototipos(Render', 'Figma', 'MarvelApp', 'Ai', 'Psetc.)/CreacióndePáginasWeb', 'MetodologíasdeInnovaciónSocial/UserExperience/Diseñocentradoenelusuario']\n",
            "Olano Valois ['GéneroyMasculinidades', 'ComunicaciónEfectiva/RelacionesPúblicas']\n",
            "Espinoza Yman ['TecnologíasEmergentes/TecnologíaSocial', 'TecnologíaeIngeniería(Software-Informática', 'Electrónica', 'Mecatrónica', 'etc.)', 'DiseñodePrototipos(Render', 'modelado3DSketchup', 'Archicad', 'Figma', 'Ai', 'Psetc.)']\n",
            "Vega Mamani ['SostenibilidadAmbientaleInnovación', 'Género', 'patronesdegéneroyrelacionesfamiliares', 'Diseñodeproductos/Diseñodeservicios']\n",
            "Grupo 4 :\n",
            "SORIA GUZMÁN ['Género', 'patronesdegéneroyrelacionesfamiliares', 'PsicologíaSocial/EconomíaConductual', 'Metodologíasdeinnovaciónsocial/UserExperience/Diseñocentradoenusuario']\n",
            "Muñoz Arista ['GéneroyMasculinidades', 'Sociología/Antropología', 'Diseñodeproductos/diseñodeservicios', 'Metodologíasdeinnovaciónsocial/UserExperience/Diseñocentradoenusuario', 'DerechosHumanosyMedioAmbiente']\n",
            "COTERA PUMACAYO ['TecnologíasAmbientalesyEcológicas', 'Gestión/IngenieríaIndustrial/Marketing&GestiónComercial', 'Diseñodeproductos/Diseñodeservicios', 'Gestiónderecursosnaturalesdentrodelhogar', 'MetodologíasdeInnovaciónSocial/UserExperience/Diseñocentradoenelusuario']\n",
            "Medina Herrera ['Gestión/IngenieríaIndustrial/Marketing&GestiónComercial']\n",
            "Echevarria Concha ['TecnologíasAmbientalesyEcológicas', 'TecnologíaeIngeniería(Software-Informática', 'Electrónica', 'Mecatrónica', 'etc.)', 'Diseñodeproductos/Diseñodeservicios', 'MetodologíasdeInnovaciónSocial/UserExperience/Diseñocentradoenelusuario']\n",
            "Yalle De la Cruz ['Gestión/IngenieríaIndustrial/Marketing&GestiónComercial']\n",
            "Inga Moncada ['Gestión/IngenieríaIndustrial/Marketing&GestiónComercial', 'DiseñodePrototipos(Render', 'Figma', 'MarvelApp', 'Ai', 'Psetc.)/CreacióndePáginasWeb', 'MetodologíasdeInnovaciónSocial/UserExperience/Diseñocentradoenelusuario']\n",
            "Hernani Valderrama ['ArquitecturaBioclimática/AgriculturaUrbana', 'DiseñodePrototipos(Render', 'Figma', 'MarvelApp', 'Ai', 'Psetc.)/CreacióndePáginasWeb']\n",
            "Grupo 5 :\n",
            "Gutiérrez Sáenz ['SostenibilidadAmbientaleInnovación', 'Metodologíasdeinnovaciónsocial/UserExperience/Diseñocentradoenusuario']\n",
            "Zuñiga Linares ['TecnologíasAmbientalesyEcológicas', 'TecnologíaeIngeniería(Software-Informática', 'Electrónica', 'Mecatrónica', 'etc.)', 'Gestiónderecursosnaturalesdentrodelhogar']\n",
            "Andia Alva ['TecnologíaeIngeniería(Software-Informática', 'Electrónica', 'Mecatrónica', 'etc.)']\n",
            "Saenz de la Cruz ['TecnologíaeIngeniería(Software-Informática', 'Electrónica', 'Mecatrónica', 'etc.)', 'DiseñodePrototipos(Render', 'Figma', 'MarvelApp', 'Ai', 'Psetc.)/CreacióndePáginasWeb']\n",
            "Peinado Bravo ['DiseñodePrototipos(Render', 'modelado3DSketchup', 'Archicad', 'Figma', 'Ai', 'Psetc.)', 'Diseñodeproductos/diseñodeservicios', 'Metodologíasdeinnovaciónsocial/UserExperience/Diseñocentradoenusuario']\n",
            "Hinostroza Quispe ['DiseñodePrototipos(Render', 'modelado3D', 'Sketchup', 'Archicad', 'Figma', 'Ai', 'Psetc.)', 'Diseñodeproductos/Diseñodeservicios', 'Metodologíasdeinnovaciónsocial/UserExperience/Diseñocentradoenusuario']\n",
            "Diaz Zevallos ['TecnologíasEmergentes/TecnologíaSocial', 'GéneroyMasculinidades', 'PsicologíaSocial/EconomíaConductual/CienciasdelaSalud', 'ComunicaciónEfectiva/RelacionesPúblicas', 'Metodologíasdeinnovaciónsocial/UserExperience/Diseñocentradoenusuario']\n",
            "Yanqui Magallan ['Gestión/IngenieríaIndustrial/Marketing&GestiónComercial', 'Diseñodeproductos/Diseñodeservicios']\n",
            "Grupo 6 :\n",
            "Aguirre ingunza ['PsicologíaSocial/EconomíaConductual', 'DiseñodePrototipos(Render', 'Figma', 'MarvelApp', 'Ai', 'Psetc.)/CreacióndePáginasWeb', 'Diseñodeproductos/Diseñodeservicios', 'Gestiónderecursosnaturalesdentrodelhogar']\n",
            "Leivo San ['TecnologíasAmbientalesyEcológicas', 'ArquitecturaBioclimática/AgriculturaUrbana', 'PsicologíaSocial/EconomíaConductual', 'Diseñodeproductos/Diseñodeservicios', 'Gestiónderecursosnaturalesdentrodelhogar', 'MetodologíasdeInnovaciónSocial/UserExperience/Diseñocentradoenelusuario']\n",
            "Hurtado Roca ['Gestión/IngenieríaIndustrial/Marketing&GestiónComercial']\n",
            "Diaz Nuñez ['TecnologíasEmergentes/TecnologíaSocial', 'TecnologíaeIngeniería(Software-Informática', 'Electrónica', 'Mecatrónica', 'etc.)', 'DiseñodePrototipos(Render', 'modelado3D', 'Sketchup', 'Archicad', 'Figma', 'Ai', 'Psetc.)', 'Diseñodeproductos/Diseñodeservicios', 'Metodologíasdeinnovaciónsocial/UserExperience/Diseñocentradoenusuario']\n",
            "ROMERO YSLACHIN ['Gestión/IngenieríaIndustrial/Marketing&GestiónComercial']\n",
            "Gonzales Cavel ['Sociología/Antropología', 'ComunicaciónEfectiva/RelacionesPúblicas']\n",
            "Gonzales ['Género', 'patronesdegéneroyrelacionesfamiliares', 'PsicologíaSocial/EconomíaConductual', 'Psicologíaeducacional', 'trabajoconfamilias', 'saludmental']\n",
            "Significación Mejia ['Gestión/IngenieríaIndustrial/Marketing&GestiónComercial']\n",
            "Luján Sandoval ['TecnologíaeIngeniería(Software-Informática', 'Electrónica', 'Mecatrónica', 'etc.)']\n",
            "Grupo 7 :\n",
            "Romero Romero ['Gestión/IngenieríaIndustrial/Marketing&GestiónComercial']\n",
            "Paima ['Gestiónderecursosnaturalesdentrodelhogar']\n",
            "Muñoz ['ArquitecturaBioclimática/AgriculturaUrbana', 'Gestión/IngenieríaIndustrial/Marketing&GestiónComercial']\n",
            "Farfan Lopez ['TecnologíasAmbientalesyEcológicas', 'TecnologíaeIngeniería(Software-Informática', 'Electrónica', 'Mecatrónica', 'etc.)', 'Gestiónderecursosnaturalesdentrodelhogar']\n",
            "Canal Gutierrez ['PsicologíaSocial/EconomíaConductual']\n",
            "Luján Sandoval ['TecnologíaeIngeniería(Software-Informática', 'Electrónica', 'Mecatrónica', 'etc.)']\n",
            "Contreras Paucca ['TecnologíaeIngeniería(Software-Informática', 'Electrónica', 'Mecatrónica', 'etc.)', 'DiseñodePrototipos(Render', 'Figma', 'MarvelApp', 'Ai', 'Psetc.)/CreacióndePáginasWeb']\n",
            "Pajuelo seminario ['TecnologíasAmbientalesyEcológicas', 'PsicologíaSocial/EconomíaConductual']\n",
            "CRUZ PADILLA ['Gestión/IngenieríaIndustrial/Marketing&GestiónComercial']\n",
            "Grupo 8 :\n",
            "Tamura Tawata ['DiseñodePrototipos(Render', 'modelado3DSketchup', 'Archicad', 'Figma', 'Ai', 'Psetc.)', 'Diseñodeproductos/diseñodeservicios', 'Metodologíasdeinnovaciónsocial/UserExperience/Diseñocentradoenusuario']\n",
            "Tejeda Montero ['TecnologíasAmbientalesyEcológicas', 'TecnologíaeIngeniería(Software-Informática', 'Electrónica', 'Mecatrónica', 'etc.)', 'MetodologíasdeInnovaciónSocial/UserExperience/Diseñocentradoenelusuario']\n",
            "Garcia Murguia ['TecnologíasAmbientalesyEcológicas', 'Gestión/IngenieríaIndustrial/Marketing&GestiónComercial', 'Diseñodeproductos/Diseñodeservicios']\n",
            "Verioska ['TecnologíasAmbientalesyEcológicas', 'ArquitecturaBioclimática/AgriculturaUrbana', 'Gestiónderecursosnaturalesdentrodelhogar', 'Desarrollosostenible']\n",
            "Munoz ['TecnologíasAmbientalesyEcológicas', 'ArquitecturaBioclimática/AgriculturaUrbana']\n",
            "Ortega Garcia ['TecnologíasAmbientalesyEcológicas', 'Gestión/IngenieríaIndustrial/Marketing&GestiónComercial', 'DiseñodePrototipos(Render', 'Figma', 'MarvelApp', 'Ai', 'Psetc.)/CreacióndePáginasWeb']\n",
            "Bautista Agurto ['Gestión/IngenieríaIndustrial/Marketing&GestiónComercial', 'MetodologíasdeInnovaciónSocial/UserExperience/Diseñocentradoenelusuario']\n",
            "Guerrero Cárdenas ['GéneroyMasculinidades', 'ComunicaciónEfectiva/RelacionesPúblicas']\n",
            "Valdivia Quiñones ['Gestión/IngenieríaIndustrial/Marketing&GestiónComercial', 'MetodologíasdeInnovaciónSocial/UserExperience/Diseñocentradoenelusuario', 'Gestióndeproyectosyprocesos']\n",
            "Grupo 9 :\n",
            "Morón Salazar ['TecnologíaeIngeniería(Software-Informática', 'Electrónica', 'Mecatrónica', 'etc.)', 'DiseñodePrototipos(Render', 'modelado3DSketchup', 'Archicad', 'Figma', 'Ai', 'Psetc.)', 'ComunicaciónEfectiva/RelacionesPúblicas']\n",
            "Noborikawa Gushiken ['ArquitecturaBioclimática/AgriculturaUrbana', 'DiseñodePrototipos(Render', 'Figma', 'MarvelApp', 'Ai', 'Psetc.)/CreacióndePáginasWeb', 'Diseñodeproductos/Diseñodeservicios', 'MetodologíasdeInnovaciónSocial/UserExperience/Diseñocentradoenelusuario']\n",
            "Perez ['GéneroyMasculinidades', 'Diseñodeproductos/diseñodeservicios', 'Metodologíasdeinnovaciónsocial/UserExperience/Diseñocentradoenusuario', 'Arte']\n",
            "Navarro Fuentes ['MetodologíasdeInnovaciónSocial/UserExperience/Diseñocentradoenelusuario']\n",
            "Figueroa Triay ['TecnologíasEmergentes/TecnologíaSocial', 'SostenibilidadAmbientaleInnovación', 'Género', 'patronesdegéneroyrelacionesfamiliares', 'PsicologíaSocial/EconomíaConductual', 'Sociología/Antropología']\n",
            "Dávila Tirado ['TecnologíasAmbientalesyEcológicas', 'TecnologíaeIngeniería(Software-Informática', 'Electrónica', 'Mecatrónica', 'etc.)', 'MetodologíasdeInnovaciónSocial/UserExperience/Diseñocentradoenelusuario']\n",
            "TAVARA DAVILA ['TecnologíaeIngeniería(Software-Informática', 'Electrónica', 'Mecatrónica', 'etc.)', 'DiseñodePrototipos(Render', 'Figma', 'MarvelApp', 'Ai', 'Psetc.)/CreacióndePáginasWeb']\n",
            "Castillo Huashuayo ['Gestión/IngenieríaIndustrial/Marketing&GestiónComercial', 'TecnologíaeIngeniería(Software-Informática', 'Electrónica', 'Mecatrónica', 'etc.)', 'Gestiónderecursosnaturalesdentrodelhogar']\n",
            "Dionicio Arzapalo ['PsicologíaSocial/EconomíaConductual', 'Gestiónderecursosnaturalesdentrodelhogar']\n"
          ],
          "name": "stdout"
        }
      ]
    },
    {
      "cell_type": "markdown",
      "metadata": {
        "id": "1CTZ-HlUmlwE"
      },
      "source": [
        "#Grabando en tabla"
      ]
    },
    {
      "cell_type": "code",
      "metadata": {
        "id": "8NVNDIVRmolO"
      },
      "source": [
        "data =[]\n",
        "for i,grupo in enumerate(best_comb):\n",
        "  for persona in grupo:\n",
        "    row = ['Grupo'+str(i+1),persona.apellido,persona.nombres,persona.competencia,persona.correo,persona.tlf]\n",
        "    data.append(row)"
      ],
      "execution_count": 47,
      "outputs": []
    },
    {
      "cell_type": "code",
      "metadata": {
        "id": "GutxMJ58mwg-"
      },
      "source": [
        "resultado = pd.DataFrame(data)"
      ],
      "execution_count": 48,
      "outputs": []
    },
    {
      "cell_type": "code",
      "metadata": {
        "id": "JVNzwqZFpG6a"
      },
      "source": [
        "resultado.columns = ['GRUPO','NOMBRES','APELLIDOS','COMPETENCIAS','CORREO','TELÉFONO']"
      ],
      "execution_count": 49,
      "outputs": []
    },
    {
      "cell_type": "code",
      "metadata": {
        "id": "0cvdi8Ysovo1"
      },
      "source": [
        "resultado.to_excel('Grupos.xlsx',sheet_name='GRUPOS')"
      ],
      "execution_count": 50,
      "outputs": []
    }
  ]
}